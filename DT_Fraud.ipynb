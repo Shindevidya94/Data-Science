{
  "nbformat": 4,
  "nbformat_minor": 0,
  "metadata": {
    "colab": {
      "provenance": []
    },
    "kernelspec": {
      "name": "python3",
      "display_name": "Python 3"
    },
    "language_info": {
      "name": "python"
    }
  },
  "cells": [
    {
      "cell_type": "code",
      "execution_count": null,
      "metadata": {
        "id": "y-DydXB_VYT-"
      },
      "outputs": [],
      "source": [
        "from google.colab import drive"
      ]
    },
    {
      "cell_type": "code",
      "source": [
        "drive.mount('/content/drive')"
      ],
      "metadata": {
        "colab": {
          "base_uri": "https://localhost:8080/"
        },
        "id": "NOplOk8JVtLi",
        "outputId": "9de3b403-1d3b-485c-96fd-e16ca8aa6497"
      },
      "execution_count": null,
      "outputs": [
        {
          "output_type": "stream",
          "name": "stdout",
          "text": [
            "Mounted at /content/drive\n"
          ]
        }
      ]
    },
    {
      "cell_type": "code",
      "source": [
        "cd drive/MyDrive/Assignments"
      ],
      "metadata": {
        "colab": {
          "base_uri": "https://localhost:8080/"
        },
        "id": "WBsDt1DbVzyE",
        "outputId": "dcd1f041-0fba-47aa-f097-ccf75993f166"
      },
      "execution_count": null,
      "outputs": [
        {
          "output_type": "stream",
          "name": "stdout",
          "text": [
            "[Errno 2] No such file or directory: 'drive/MyDrive/Assignments'\n",
            "/content/drive/MyDrive/Assignments\n"
          ]
        }
      ]
    },
    {
      "cell_type": "code",
      "source": [
        "import pandas as pd\n",
        "import numpy as np\n",
        "import matplotlib.pyplot as plt\n",
        "from sklearn.tree import DecisionTreeClassifier\n",
        "from sklearn.model_selection import train_test_split\n",
        "from sklearn.metrics import classification_report\n",
        "from sklearn import preprocessing\n",
        "from sklearn.ensemble import BaggingClassifier,RandomForestClassifier\n",
        "from sklearn.metrics import accuracy_score"
      ],
      "metadata": {
        "id": "LxFNHjP3WWu1"
      },
      "execution_count": null,
      "outputs": []
    },
    {
      "cell_type": "code",
      "source": [
        "data=pd.read_csv('Fraud_check.csv')"
      ],
      "metadata": {
        "id": "JGzu3Qs_WNVh"
      },
      "execution_count": null,
      "outputs": []
    },
    {
      "cell_type": "code",
      "source": [
        "data.rename(columns={\"Marital.Status\":\"Marital\",\"Taxable.Income\":\"Tax\",\"City.Population\":\"Population\",\"Work.Experience\":\"Exp\"},inplace=True)\n",
        "data.sample(5)"
      ],
      "metadata": {
        "id": "7i_wfskNWViR",
        "colab": {
          "base_uri": "https://localhost:8080/",
          "height": 206
        },
        "outputId": "2f89590c-44dc-4144-fc76-17edc278d34d"
      },
      "execution_count": null,
      "outputs": [
        {
          "output_type": "execute_result",
          "data": {
            "text/plain": [
              "    Undergrad   Marital    Tax  Population  Exp Urban\n",
              "147       YES  Divorced  63057      163252   28    NO\n",
              "398        NO   Married  17440       64070    2   YES\n",
              "587        NO    Single  87685      154677   26   YES\n",
              "84         NO   Married  69098      178083    4   YES\n",
              "359       YES    Single  33215      157299   11    NO"
            ],
            "text/html": [
              "\n",
              "  <div id=\"df-63d7b4c8-d874-4e1f-bfcb-91b3d37f25a9\">\n",
              "    <div class=\"colab-df-container\">\n",
              "      <div>\n",
              "<style scoped>\n",
              "    .dataframe tbody tr th:only-of-type {\n",
              "        vertical-align: middle;\n",
              "    }\n",
              "\n",
              "    .dataframe tbody tr th {\n",
              "        vertical-align: top;\n",
              "    }\n",
              "\n",
              "    .dataframe thead th {\n",
              "        text-align: right;\n",
              "    }\n",
              "</style>\n",
              "<table border=\"1\" class=\"dataframe\">\n",
              "  <thead>\n",
              "    <tr style=\"text-align: right;\">\n",
              "      <th></th>\n",
              "      <th>Undergrad</th>\n",
              "      <th>Marital</th>\n",
              "      <th>Tax</th>\n",
              "      <th>Population</th>\n",
              "      <th>Exp</th>\n",
              "      <th>Urban</th>\n",
              "    </tr>\n",
              "  </thead>\n",
              "  <tbody>\n",
              "    <tr>\n",
              "      <th>147</th>\n",
              "      <td>YES</td>\n",
              "      <td>Divorced</td>\n",
              "      <td>63057</td>\n",
              "      <td>163252</td>\n",
              "      <td>28</td>\n",
              "      <td>NO</td>\n",
              "    </tr>\n",
              "    <tr>\n",
              "      <th>398</th>\n",
              "      <td>NO</td>\n",
              "      <td>Married</td>\n",
              "      <td>17440</td>\n",
              "      <td>64070</td>\n",
              "      <td>2</td>\n",
              "      <td>YES</td>\n",
              "    </tr>\n",
              "    <tr>\n",
              "      <th>587</th>\n",
              "      <td>NO</td>\n",
              "      <td>Single</td>\n",
              "      <td>87685</td>\n",
              "      <td>154677</td>\n",
              "      <td>26</td>\n",
              "      <td>YES</td>\n",
              "    </tr>\n",
              "    <tr>\n",
              "      <th>84</th>\n",
              "      <td>NO</td>\n",
              "      <td>Married</td>\n",
              "      <td>69098</td>\n",
              "      <td>178083</td>\n",
              "      <td>4</td>\n",
              "      <td>YES</td>\n",
              "    </tr>\n",
              "    <tr>\n",
              "      <th>359</th>\n",
              "      <td>YES</td>\n",
              "      <td>Single</td>\n",
              "      <td>33215</td>\n",
              "      <td>157299</td>\n",
              "      <td>11</td>\n",
              "      <td>NO</td>\n",
              "    </tr>\n",
              "  </tbody>\n",
              "</table>\n",
              "</div>\n",
              "      <button class=\"colab-df-convert\" onclick=\"convertToInteractive('df-63d7b4c8-d874-4e1f-bfcb-91b3d37f25a9')\"\n",
              "              title=\"Convert this dataframe to an interactive table.\"\n",
              "              style=\"display:none;\">\n",
              "        \n",
              "  <svg xmlns=\"http://www.w3.org/2000/svg\" height=\"24px\"viewBox=\"0 0 24 24\"\n",
              "       width=\"24px\">\n",
              "    <path d=\"M0 0h24v24H0V0z\" fill=\"none\"/>\n",
              "    <path d=\"M18.56 5.44l.94 2.06.94-2.06 2.06-.94-2.06-.94-.94-2.06-.94 2.06-2.06.94zm-11 1L8.5 8.5l.94-2.06 2.06-.94-2.06-.94L8.5 2.5l-.94 2.06-2.06.94zm10 10l.94 2.06.94-2.06 2.06-.94-2.06-.94-.94-2.06-.94 2.06-2.06.94z\"/><path d=\"M17.41 7.96l-1.37-1.37c-.4-.4-.92-.59-1.43-.59-.52 0-1.04.2-1.43.59L10.3 9.45l-7.72 7.72c-.78.78-.78 2.05 0 2.83L4 21.41c.39.39.9.59 1.41.59.51 0 1.02-.2 1.41-.59l7.78-7.78 2.81-2.81c.8-.78.8-2.07 0-2.86zM5.41 20L4 18.59l7.72-7.72 1.47 1.35L5.41 20z\"/>\n",
              "  </svg>\n",
              "      </button>\n",
              "      \n",
              "  <style>\n",
              "    .colab-df-container {\n",
              "      display:flex;\n",
              "      flex-wrap:wrap;\n",
              "      gap: 12px;\n",
              "    }\n",
              "\n",
              "    .colab-df-convert {\n",
              "      background-color: #E8F0FE;\n",
              "      border: none;\n",
              "      border-radius: 50%;\n",
              "      cursor: pointer;\n",
              "      display: none;\n",
              "      fill: #1967D2;\n",
              "      height: 32px;\n",
              "      padding: 0 0 0 0;\n",
              "      width: 32px;\n",
              "    }\n",
              "\n",
              "    .colab-df-convert:hover {\n",
              "      background-color: #E2EBFA;\n",
              "      box-shadow: 0px 1px 2px rgba(60, 64, 67, 0.3), 0px 1px 3px 1px rgba(60, 64, 67, 0.15);\n",
              "      fill: #174EA6;\n",
              "    }\n",
              "\n",
              "    [theme=dark] .colab-df-convert {\n",
              "      background-color: #3B4455;\n",
              "      fill: #D2E3FC;\n",
              "    }\n",
              "\n",
              "    [theme=dark] .colab-df-convert:hover {\n",
              "      background-color: #434B5C;\n",
              "      box-shadow: 0px 1px 3px 1px rgba(0, 0, 0, 0.15);\n",
              "      filter: drop-shadow(0px 1px 2px rgba(0, 0, 0, 0.3));\n",
              "      fill: #FFFFFF;\n",
              "    }\n",
              "  </style>\n",
              "\n",
              "      <script>\n",
              "        const buttonEl =\n",
              "          document.querySelector('#df-63d7b4c8-d874-4e1f-bfcb-91b3d37f25a9 button.colab-df-convert');\n",
              "        buttonEl.style.display =\n",
              "          google.colab.kernel.accessAllowed ? 'block' : 'none';\n",
              "\n",
              "        async function convertToInteractive(key) {\n",
              "          const element = document.querySelector('#df-63d7b4c8-d874-4e1f-bfcb-91b3d37f25a9');\n",
              "          const dataTable =\n",
              "            await google.colab.kernel.invokeFunction('convertToInteractive',\n",
              "                                                     [key], {});\n",
              "          if (!dataTable) return;\n",
              "\n",
              "          const docLinkHtml = 'Like what you see? Visit the ' +\n",
              "            '<a target=\"_blank\" href=https://colab.research.google.com/notebooks/data_table.ipynb>data table notebook</a>'\n",
              "            + ' to learn more about interactive tables.';\n",
              "          element.innerHTML = '';\n",
              "          dataTable['output_type'] = 'display_data';\n",
              "          await google.colab.output.renderOutput(dataTable, element);\n",
              "          const docLink = document.createElement('div');\n",
              "          docLink.innerHTML = docLinkHtml;\n",
              "          element.appendChild(docLink);\n",
              "        }\n",
              "      </script>\n",
              "    </div>\n",
              "  </div>\n",
              "  "
            ]
          },
          "metadata": {},
          "execution_count": 82
        }
      ]
    },
    {
      "cell_type": "code",
      "source": [
        "data[\"Tax\"].loc[377]"
      ],
      "metadata": {
        "colab": {
          "base_uri": "https://localhost:8080/"
        },
        "id": "hPh-pi-inPPn",
        "outputId": "362ecea1-05e4-44ba-e023-42f3097f7d1e"
      },
      "execution_count": null,
      "outputs": [
        {
          "output_type": "execute_result",
          "data": {
            "text/plain": [
              "56555"
            ]
          },
          "metadata": {},
          "execution_count": 83
        }
      ]
    },
    {
      "cell_type": "code",
      "source": [
        "data[\"income\"]=\"\"\n",
        "data.loc[data[\"Tax\"]>=30000,\"income\"]=\"Good\"\n",
        "data.loc[data[\"Tax\"]<=30000,\"income\"]=\"Risky\""
      ],
      "metadata": {
        "id": "BCjNGiwwnVh5"
      },
      "execution_count": null,
      "outputs": []
    },
    {
      "cell_type": "code",
      "source": [
        "data.drop(\"Tax\",axis=1,inplace=True)"
      ],
      "metadata": {
        "id": "VczlUCoztbiH"
      },
      "execution_count": null,
      "outputs": []
    },
    {
      "cell_type": "code",
      "source": [
        "scale=preprocessing.LabelEncoder()\n",
        "for i in data.columns:\n",
        "  if data[i].dtype==object:\n",
        "    data[i]=scale.fit_transform(data[i])\n",
        "  else:\n",
        "    pass"
      ],
      "metadata": {
        "id": "nP1kYlT8vSoJ"
      },
      "execution_count": null,
      "outputs": []
    },
    {
      "cell_type": "code",
      "source": [
        "x_train,x_test,y_train,y_test=train_test_split(data.iloc[:,0:5],data.iloc[:,5],test_size=0.2,stratify = labels)"
      ],
      "metadata": {
        "id": "6jKKiXDWwUSP"
      },
      "execution_count": null,
      "outputs": []
    },
    {
      "cell_type": "code",
      "source": [
        "models=[DecisionTreeClassifier(),\n",
        "        BaggingClassifier(n_estimators=15,max_samples=0.8),\n",
        "        RandomForestClassifier(n_estimators=15,max_samples=0.8,max_features=4)]"
      ],
      "metadata": {
        "id": "fVJurBUctmjW"
      },
      "execution_count": null,
      "outputs": []
    },
    {
      "cell_type": "code",
      "source": [
        "for model in models:\n",
        "  model.fit(x_train,y_train)\n",
        "  pred=model.predict(x_test)\n",
        "  print(model)\n",
        "  print(\"===\"*20)\n",
        "  print(classification_report(y_test,pred))"
      ],
      "metadata": {
        "colab": {
          "base_uri": "https://localhost:8080/"
        },
        "id": "_SOvkhapujmw",
        "outputId": "189ba320-fc0d-4bf5-9ef6-4320c6453378"
      },
      "execution_count": null,
      "outputs": [
        {
          "output_type": "stream",
          "name": "stdout",
          "text": [
            "DecisionTreeClassifier()\n",
            "============================================================\n",
            "              precision    recall  f1-score   support\n",
            "\n",
            "           0       0.80      0.78      0.79        95\n",
            "           1       0.22      0.24      0.23        25\n",
            "\n",
            "    accuracy                           0.67       120\n",
            "   macro avg       0.51      0.51      0.51       120\n",
            "weighted avg       0.68      0.67      0.67       120\n",
            "\n",
            "BaggingClassifier(max_samples=0.8, n_estimators=15)\n",
            "============================================================\n",
            "              precision    recall  f1-score   support\n",
            "\n",
            "           0       0.81      0.93      0.87        95\n",
            "           1       0.42      0.20      0.27        25\n",
            "\n",
            "    accuracy                           0.78       120\n",
            "   macro avg       0.62      0.56      0.57       120\n",
            "weighted avg       0.73      0.78      0.74       120\n",
            "\n",
            "RandomForestClassifier(max_features=4, max_samples=0.8, n_estimators=15)\n",
            "============================================================\n",
            "              precision    recall  f1-score   support\n",
            "\n",
            "           0       0.80      0.87      0.83        95\n",
            "           1       0.25      0.16      0.20        25\n",
            "\n",
            "    accuracy                           0.73       120\n",
            "   macro avg       0.52      0.52      0.51       120\n",
            "weighted avg       0.68      0.72      0.70       120\n",
            "\n"
          ]
        }
      ]
    },
    {
      "cell_type": "code",
      "source": [],
      "metadata": {
        "id": "2UceGH8ZvGLU"
      },
      "execution_count": null,
      "outputs": []
    }
  ]
}