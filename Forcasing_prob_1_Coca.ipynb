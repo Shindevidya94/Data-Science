{
  "nbformat": 4,
  "nbformat_minor": 0,
  "metadata": {
    "colab": {
      "provenance": []
    },
    "kernelspec": {
      "name": "python3",
      "display_name": "Python 3"
    },
    "language_info": {
      "name": "python"
    }
  },
  "cells": [
    {
      "cell_type": "code",
      "execution_count": 1,
      "metadata": {
        "id": "SpdHMG2qjKxp"
      },
      "outputs": [],
      "source": [
        "from google.colab import files"
      ]
    },
    {
      "cell_type": "code",
      "source": [
        "files.upload()"
      ],
      "metadata": {
        "colab": {
          "base_uri": "https://localhost:8080/",
          "height": 1000
        },
        "id": "GESvn8b4jU87",
        "outputId": "732edf44-c49d-4cee-c6af-f8a8a3b742ec"
      },
      "execution_count": 2,
      "outputs": [
        {
          "output_type": "display_data",
          "data": {
            "text/plain": [
              "<IPython.core.display.HTML object>"
            ],
            "text/html": [
              "\n",
              "     <input type=\"file\" id=\"files-9c9f1115-ff00-434b-b51c-d40c5ddbea84\" name=\"files[]\" multiple disabled\n",
              "        style=\"border:none\" />\n",
              "     <output id=\"result-9c9f1115-ff00-434b-b51c-d40c5ddbea84\">\n",
              "      Upload widget is only available when the cell has been executed in the\n",
              "      current browser session. Please rerun this cell to enable.\n",
              "      </output>\n",
              "      <script>// Copyright 2017 Google LLC\n",
              "//\n",
              "// Licensed under the Apache License, Version 2.0 (the \"License\");\n",
              "// you may not use this file except in compliance with the License.\n",
              "// You may obtain a copy of the License at\n",
              "//\n",
              "//      http://www.apache.org/licenses/LICENSE-2.0\n",
              "//\n",
              "// Unless required by applicable law or agreed to in writing, software\n",
              "// distributed under the License is distributed on an \"AS IS\" BASIS,\n",
              "// WITHOUT WARRANTIES OR CONDITIONS OF ANY KIND, either express or implied.\n",
              "// See the License for the specific language governing permissions and\n",
              "// limitations under the License.\n",
              "\n",
              "/**\n",
              " * @fileoverview Helpers for google.colab Python module.\n",
              " */\n",
              "(function(scope) {\n",
              "function span(text, styleAttributes = {}) {\n",
              "  const element = document.createElement('span');\n",
              "  element.textContent = text;\n",
              "  for (const key of Object.keys(styleAttributes)) {\n",
              "    element.style[key] = styleAttributes[key];\n",
              "  }\n",
              "  return element;\n",
              "}\n",
              "\n",
              "// Max number of bytes which will be uploaded at a time.\n",
              "const MAX_PAYLOAD_SIZE = 100 * 1024;\n",
              "\n",
              "function _uploadFiles(inputId, outputId) {\n",
              "  const steps = uploadFilesStep(inputId, outputId);\n",
              "  const outputElement = document.getElementById(outputId);\n",
              "  // Cache steps on the outputElement to make it available for the next call\n",
              "  // to uploadFilesContinue from Python.\n",
              "  outputElement.steps = steps;\n",
              "\n",
              "  return _uploadFilesContinue(outputId);\n",
              "}\n",
              "\n",
              "// This is roughly an async generator (not supported in the browser yet),\n",
              "// where there are multiple asynchronous steps and the Python side is going\n",
              "// to poll for completion of each step.\n",
              "// This uses a Promise to block the python side on completion of each step,\n",
              "// then passes the result of the previous step as the input to the next step.\n",
              "function _uploadFilesContinue(outputId) {\n",
              "  const outputElement = document.getElementById(outputId);\n",
              "  const steps = outputElement.steps;\n",
              "\n",
              "  const next = steps.next(outputElement.lastPromiseValue);\n",
              "  return Promise.resolve(next.value.promise).then((value) => {\n",
              "    // Cache the last promise value to make it available to the next\n",
              "    // step of the generator.\n",
              "    outputElement.lastPromiseValue = value;\n",
              "    return next.value.response;\n",
              "  });\n",
              "}\n",
              "\n",
              "/**\n",
              " * Generator function which is called between each async step of the upload\n",
              " * process.\n",
              " * @param {string} inputId Element ID of the input file picker element.\n",
              " * @param {string} outputId Element ID of the output display.\n",
              " * @return {!Iterable<!Object>} Iterable of next steps.\n",
              " */\n",
              "function* uploadFilesStep(inputId, outputId) {\n",
              "  const inputElement = document.getElementById(inputId);\n",
              "  inputElement.disabled = false;\n",
              "\n",
              "  const outputElement = document.getElementById(outputId);\n",
              "  outputElement.innerHTML = '';\n",
              "\n",
              "  const pickedPromise = new Promise((resolve) => {\n",
              "    inputElement.addEventListener('change', (e) => {\n",
              "      resolve(e.target.files);\n",
              "    });\n",
              "  });\n",
              "\n",
              "  const cancel = document.createElement('button');\n",
              "  inputElement.parentElement.appendChild(cancel);\n",
              "  cancel.textContent = 'Cancel upload';\n",
              "  const cancelPromise = new Promise((resolve) => {\n",
              "    cancel.onclick = () => {\n",
              "      resolve(null);\n",
              "    };\n",
              "  });\n",
              "\n",
              "  // Wait for the user to pick the files.\n",
              "  const files = yield {\n",
              "    promise: Promise.race([pickedPromise, cancelPromise]),\n",
              "    response: {\n",
              "      action: 'starting',\n",
              "    }\n",
              "  };\n",
              "\n",
              "  cancel.remove();\n",
              "\n",
              "  // Disable the input element since further picks are not allowed.\n",
              "  inputElement.disabled = true;\n",
              "\n",
              "  if (!files) {\n",
              "    return {\n",
              "      response: {\n",
              "        action: 'complete',\n",
              "      }\n",
              "    };\n",
              "  }\n",
              "\n",
              "  for (const file of files) {\n",
              "    const li = document.createElement('li');\n",
              "    li.append(span(file.name, {fontWeight: 'bold'}));\n",
              "    li.append(span(\n",
              "        `(${file.type || 'n/a'}) - ${file.size} bytes, ` +\n",
              "        `last modified: ${\n",
              "            file.lastModifiedDate ? file.lastModifiedDate.toLocaleDateString() :\n",
              "                                    'n/a'} - `));\n",
              "    const percent = span('0% done');\n",
              "    li.appendChild(percent);\n",
              "\n",
              "    outputElement.appendChild(li);\n",
              "\n",
              "    const fileDataPromise = new Promise((resolve) => {\n",
              "      const reader = new FileReader();\n",
              "      reader.onload = (e) => {\n",
              "        resolve(e.target.result);\n",
              "      };\n",
              "      reader.readAsArrayBuffer(file);\n",
              "    });\n",
              "    // Wait for the data to be ready.\n",
              "    let fileData = yield {\n",
              "      promise: fileDataPromise,\n",
              "      response: {\n",
              "        action: 'continue',\n",
              "      }\n",
              "    };\n",
              "\n",
              "    // Use a chunked sending to avoid message size limits. See b/62115660.\n",
              "    let position = 0;\n",
              "    do {\n",
              "      const length = Math.min(fileData.byteLength - position, MAX_PAYLOAD_SIZE);\n",
              "      const chunk = new Uint8Array(fileData, position, length);\n",
              "      position += length;\n",
              "\n",
              "      const base64 = btoa(String.fromCharCode.apply(null, chunk));\n",
              "      yield {\n",
              "        response: {\n",
              "          action: 'append',\n",
              "          file: file.name,\n",
              "          data: base64,\n",
              "        },\n",
              "      };\n",
              "\n",
              "      let percentDone = fileData.byteLength === 0 ?\n",
              "          100 :\n",
              "          Math.round((position / fileData.byteLength) * 100);\n",
              "      percent.textContent = `${percentDone}% done`;\n",
              "\n",
              "    } while (position < fileData.byteLength);\n",
              "  }\n",
              "\n",
              "  // All done.\n",
              "  yield {\n",
              "    response: {\n",
              "      action: 'complete',\n",
              "    }\n",
              "  };\n",
              "}\n",
              "\n",
              "scope.google = scope.google || {};\n",
              "scope.google.colab = scope.google.colab || {};\n",
              "scope.google.colab._files = {\n",
              "  _uploadFiles,\n",
              "  _uploadFilesContinue,\n",
              "};\n",
              "})(self);\n",
              "</script> "
            ]
          },
          "metadata": {}
        },
        {
          "output_type": "stream",
          "name": "stdout",
          "text": [
            "Saving CocaCola_Sales_Rawdata.xlsx to CocaCola_Sales_Rawdata.xlsx\n"
          ]
        },
        {
          "output_type": "execute_result",
          "data": {
            "text/plain": [
              "{'CocaCola_Sales_Rawdata.xlsx': b'PK\\x03\\x04\\x14\\x00\\x06\\x00\\x08\\x00\\x00\\x00!\\x00b\\xee\\x9dh^\\x01\\x00\\x00\\x90\\x04\\x00\\x00\\x13\\x00\\x08\\x02[Content_Types].xml \\xa2\\x04\\x02(\\xa0\\x00\\x02\\x00\\x00\\x00\\x00\\x00\\x00\\x00\\x00\\x00\\x00\\x00\\x00\\x00\\x00\\x00\\x00\\x00\\x00\\x00\\x00\\x00\\x00\\x00\\x00\\x00\\x00\\x00\\x00\\x00\\x00\\x00\\x00\\x00\\x00\\x00\\x00\\x00\\x00\\x00\\x00\\x00\\x00\\x00\\x00\\x00\\x00\\x00\\x00\\x00\\x00\\x00\\x00\\x00\\x00\\x00\\x00\\x00\\x00\\x00\\x00\\x00\\x00\\x00\\x00\\x00\\x00\\x00\\x00\\x00\\x00\\x00\\x00\\x00\\x00\\x00\\x00\\x00\\x00\\x00\\x00\\x00\\x00\\x00\\x00\\x00\\x00\\x00\\x00\\x00\\x00\\x00\\x00\\x00\\x00\\x00\\x00\\x00\\x00\\x00\\x00\\x00\\x00\\x00\\x00\\x00\\x00\\x00\\x00\\x00\\x00\\x00\\x00\\x00\\x00\\x00\\x00\\x00\\x00\\x00\\x00\\x00\\x00\\x00\\x00\\x00\\x00\\x00\\x00\\x00\\x00\\x00\\x00\\x00\\x00\\x00\\x00\\x00\\x00\\x00\\x00\\x00\\x00\\x00\\x00\\x00\\x00\\x00\\x00\\x00\\x00\\x00\\x00\\x00\\x00\\x00\\x00\\x00\\x00\\x00\\x00\\x00\\x00\\x00\\x00\\x00\\x00\\x00\\x00\\x00\\x00\\x00\\x00\\x00\\x00\\x00\\x00\\x00\\x00\\x00\\x00\\x00\\x00\\x00\\x00\\x00\\x00\\x00\\x00\\x00\\x00\\x00\\x00\\x00\\x00\\x00\\x00\\x00\\x00\\x00\\x00\\x00\\x00\\x00\\x00\\x00\\x00\\x00\\x00\\x00\\x00\\x00\\x00\\x00\\x00\\x00\\x00\\x00\\x00\\x00\\x00\\x00\\x00\\x00\\x00\\x00\\x00\\x00\\x00\\x00\\x00\\x00\\x00\\x00\\x00\\x00\\x00\\x00\\x00\\x00\\x00\\x00\\x00\\x00\\x00\\x00\\x00\\x00\\x00\\x00\\x00\\x00\\x00\\x00\\x00\\x00\\x00\\x00\\x00\\x00\\x00\\x00\\x00\\x00\\x00\\x00\\x00\\x00\\x00\\x00\\x00\\x00\\x00\\x00\\x00\\x00\\x00\\x00\\x00\\x00\\x00\\x00\\x00\\x00\\x00\\x00\\x00\\x00\\x00\\x00\\x00\\x00\\x00\\x00\\x00\\x00\\x00\\x00\\x00\\x00\\x00\\x00\\x00\\x00\\x00\\x00\\x00\\x00\\x00\\x00\\x00\\x00\\x00\\x00\\x00\\x00\\x00\\x00\\x00\\x00\\x00\\x00\\x00\\x00\\x00\\x00\\x00\\x00\\x00\\x00\\x00\\x00\\x00\\x00\\x00\\x00\\x00\\x00\\x00\\x00\\x00\\x00\\x00\\x00\\x00\\x00\\x00\\x00\\x00\\x00\\x00\\x00\\x00\\x00\\x00\\x00\\x00\\x00\\x00\\x00\\x00\\x00\\x00\\x00\\x00\\x00\\x00\\x00\\x00\\x00\\x00\\x00\\x00\\x00\\x00\\x00\\x00\\x00\\x00\\x00\\x00\\x00\\x00\\x00\\x00\\x00\\x00\\x00\\x00\\x00\\x00\\x00\\x00\\x00\\x00\\x00\\x00\\x00\\x00\\x00\\x00\\x00\\x00\\x00\\x00\\x00\\x00\\x00\\x00\\x00\\x00\\x00\\x00\\x00\\x00\\x00\\x00\\x00\\x00\\x00\\x00\\x00\\x00\\x00\\x00\\x00\\x00\\x00\\x00\\x00\\x00\\x00\\x00\\x00\\x00\\x00\\x00\\x00\\x00\\x00\\x00\\x00\\x00\\x00\\x00\\x00\\x00\\x00\\x00\\x00\\x00\\x00\\x00\\x00\\x00\\x00\\x00\\x00\\x00\\x00\\x00\\x00\\x00\\x00\\x00\\x00\\x00\\x00\\x00\\x00\\x00\\x00\\x00\\x00\\x00\\x00\\x00\\x00\\x00\\x00\\x00\\x00\\x00\\x00\\x00\\x00\\x00\\x00\\x00\\x00\\x00\\x00\\x00\\x00\\x00\\x00\\x00\\x00\\x00\\x00\\x00\\x00\\x00\\x00\\x00\\x00\\x00\\x00\\x00\\x00\\x00\\x00\\x00\\xac\\x94\\xcbN\\xc30\\x10E\\xf7H\\xfcC\\xe4-J\\xdc\\xb2@\\x085\\xed\\x82\\xc7\\x12*Q>\\xc0\\xc4\\x93\\xc6\\xaac[\\x9eii\\xff\\x9e\\x89\\xfb\\x10B\\xa1\\x15j7\\xb1\\x12\\xcf\\xdc{2\\xf1\\xcdh\\xb2nm\\xb6\\x82\\x88\\xc6\\xbbR\\x0c\\x8b\\x81\\xc8\\xc0U^\\x1b7/\\xc5\\xc7\\xec%\\xbf\\x17\\x19\\x92rZY\\xef\\xa0\\x14\\x1b@1\\x19__\\x8df\\x9b\\x00\\x98q\\xb7\\xc3R4D\\xe1AJ\\xac\\x1ah\\x15\\x16>\\x80\\xe3\\x9d\\xda\\xc7V\\x11\\xdf\\xc6\\xb9\\x0c\\xaaZ\\xa89\\xc8\\xdb\\xc1\\xe0NV\\xde\\x118\\xca\\xa9\\xd3\\x10\\xe3\\xd1\\x13\\xd4ji){^\\xf3\\xe3-I\\x04\\x8b\"{\\xdc\\x16v^\\xa5P!XS)bR\\xb9r\\xfa\\x97K\\xbes(\\xb83\\xd5`c\\x02\\xde0\\x86\\x90\\xbd\\x0e\\xdd\\xce\\xdf\\x06\\xbb\\xbe7\\x1eM4\\x1a\\xb2\\xa9\\x8a\\xf4\\xaaZ\\xc6\\x90k+\\xbf|\\\\|z\\xbf(\\x8e\\x8b\\xf4P\\xfa\\xba6\\x15h_-[\\x9e@\\x81!\\x82\\xd2\\xd8\\x00Pk\\x8b\\xb4\\x16\\xad2n\\xcf}\\xc4?\\x15\\xa3L\\xcb\\xf0\\xc2 \\xdd\\xfb%\\xe1\\x13\\x1c\\xc4\\xdf\\x1bd\\xba\\x9e\\x8f\\x90dN\\x18\"m,\\xe0\\xa5\\xc7\\x9eDO97*\\x82~\\xa7\\xc8\\xc9\\xb88\\xc0O\\xedc\\x1c|n\\xa6\\xd1\\x07\\xe4\\x04E\\xf8\\xff\\x14\\xf6\\x11\\xe9\\xba\\xf3\\xc0B\\x10\\xc9\\xc0!$}\\x87\\xed\\xe0\\xc8\\xe9;{\\xec\\xd0\\xe5[\\x83\\xee\\xf1\\x96\\xe9\\x7f2\\xfe\\x06\\x00\\x00\\xff\\xff\\x03\\x00PK\\x03\\x04\\x14\\x00\\x06\\x00\\x08\\x00\\x00\\x00!\\x00\\xb5U0#\\xf4\\x00\\x00\\x00L\\x02\\x00\\x00\\x0b\\x00\\x08\\x02_rels/.rels \\xa2\\x04\\x02(\\xa0\\x00\\x02\\x00\\x00\\x00\\x00\\x00\\x00\\x00\\x00\\x00\\x00\\x00\\x00\\x00\\x00\\x00\\x00\\x00\\x00\\x00\\x00\\x00\\x00\\x00\\x00\\x00\\x00\\x00\\x00\\x00\\x00\\x00\\x00\\x00\\x00\\x00\\x00\\x00\\x00\\x00\\x00\\x00\\x00\\x00\\x00\\x00\\x00\\x00\\x00\\x00\\x00\\x00\\x00\\x00\\x00\\x00\\x00\\x00\\x00\\x00\\x00\\x00\\x00\\x00\\x00\\x00\\x00\\x00\\x00\\x00\\x00\\x00\\x00\\x00\\x00\\x00\\x00\\x00\\x00\\x00\\x00\\x00\\x00\\x00\\x00\\x00\\x00\\x00\\x00\\x00\\x00\\x00\\x00\\x00\\x00\\x00\\x00\\x00\\x00\\x00\\x00\\x00\\x00\\x00\\x00\\x00\\x00\\x00\\x00\\x00\\x00\\x00\\x00\\x00\\x00\\x00\\x00\\x00\\x00\\x00\\x00\\x00\\x00\\x00\\x00\\x00\\x00\\x00\\x00\\x00\\x00\\x00\\x00\\x00\\x00\\x00\\x00\\x00\\x00\\x00\\x00\\x00\\x00\\x00\\x00\\x00\\x00\\x00\\x00\\x00\\x00\\x00\\x00\\x00\\x00\\x00\\x00\\x00\\x00\\x00\\x00\\x00\\x00\\x00\\x00\\x00\\x00\\x00\\x00\\x00\\x00\\x00\\x00\\x00\\x00\\x00\\x00\\x00\\x00\\x00\\x00\\x00\\x00\\x00\\x00\\x00\\x00\\x00\\x00\\x00\\x00\\x00\\x00\\x00\\x00\\x00\\x00\\x00\\x00\\x00\\x00\\x00\\x00\\x00\\x00\\x00\\x00\\x00\\x00\\x00\\x00\\x00\\x00\\x00\\x00\\x00\\x00\\x00\\x00\\x00\\x00\\x00\\x00\\x00\\x00\\x00\\x00\\x00\\x00\\x00\\x00\\x00\\x00\\x00\\x00\\x00\\x00\\x00\\x00\\x00\\x00\\x00\\x00\\x00\\x00\\x00\\x00\\x00\\x00\\x00\\x00\\x00\\x00\\x00\\x00\\x00\\x00\\x00\\x00\\x00\\x00\\x00\\x00\\x00\\x00\\x00\\x00\\x00\\x00\\x00\\x00\\x00\\x00\\x00\\x00\\x00\\x00\\x00\\x00\\x00\\x00\\x00\\x00\\x00\\x00\\x00\\x00\\x00\\x00\\x00\\x00\\x00\\x00\\x00\\x00\\x00\\x00\\x00\\x00\\x00\\x00\\x00\\x00\\x00\\x00\\x00\\x00\\x00\\x00\\x00\\x00\\x00\\x00\\x00\\x00\\x00\\x00\\x00\\x00\\x00\\x00\\x00\\x00\\x00\\x00\\x00\\x00\\x00\\x00\\x00\\x00\\x00\\x00\\x00\\x00\\x00\\x00\\x00\\x00\\x00\\x00\\x00\\x00\\x00\\x00\\x00\\x00\\x00\\x00\\x00\\x00\\x00\\x00\\x00\\x00\\x00\\x00\\x00\\x00\\x00\\x00\\x00\\x00\\x00\\x00\\x00\\x00\\x00\\x00\\x00\\x00\\x00\\x00\\x00\\x00\\x00\\x00\\x00\\x00\\x00\\x00\\x00\\x00\\x00\\x00\\x00\\x00\\x00\\x00\\x00\\x00\\x00\\x00\\x00\\x00\\x00\\x00\\x00\\x00\\x00\\x00\\x00\\x00\\x00\\x00\\x00\\x00\\x00\\x00\\x00\\x00\\x00\\x00\\x00\\x00\\x00\\x00\\x00\\x00\\x00\\x00\\x00\\x00\\x00\\x00\\x00\\x00\\x00\\x00\\x00\\x00\\x00\\x00\\x00\\x00\\x00\\x00\\x00\\x00\\x00\\x00\\x00\\x00\\x00\\x00\\x00\\x00\\x00\\x00\\x00\\x00\\x00\\x00\\x00\\x00\\x00\\x00\\x00\\x00\\x00\\x00\\x00\\x00\\x00\\x00\\x00\\x00\\x00\\x00\\x00\\x00\\x00\\x00\\x00\\x00\\x00\\x00\\x00\\x00\\x00\\x00\\x00\\x00\\x00\\x00\\x00\\x00\\x00\\x00\\x00\\x00\\x00\\x00\\x00\\x00\\x00\\x00\\x00\\x00\\x00\\x00\\x00\\x00\\x00\\x00\\x00\\x00\\x00\\x00\\x00\\x00\\x00\\x00\\xac\\x92MO\\xc30\\x0c\\x86\\xefH\\xfc\\x87\\xc8\\xf7\\xd5\\xdd\\x90\\x10BKwAH\\xbb!T~\\x80I\\xdc\\x0f\\xb5\\x8d\\xa3$\\x1b\\xdd\\xbf\\'\\x1c\\x10T\\x1a\\x83\\x03G\\x7f\\xbd~\\xfc\\xca\\xdb\\xdd<\\x8d\\xea\\xc8!\\xf6\\xe24\\xac\\x8b\\x12\\x14;#\\xb6w\\xad\\x86\\x97\\xfaqu\\x07*&r\\x96Fq\\xac\\xe1\\xc4\\x11v\\xd5\\xf5\\xd5\\xf6\\x99GJy(v\\xbd\\x8f*\\xab\\xb8\\xa8\\xa1K\\xc9\\xdf#F\\xd3\\xf1D\\xb1\\x10\\xcf.W\\x1a\\t\\x13\\xa5\\x1c\\x86\\x16=\\x99\\x81Z\\xc6MY\\xdeb\\xf8\\xae\\x01\\xd5BS\\xed\\xad\\x86\\xb0\\xb77\\xa0\\xea\\x93\\xcf\\x9b\\x7f\\xd7\\x96\\xa6\\xe9\\r?\\x889L\\xec\\xd2\\x99\\x15\\xc8sbg\\xd9\\xae|\\xc8l!\\xf5\\xf9\\x1aUSh9i\\xb0b\\x9er:\"y_dl\\xc0\\xf3D\\x9b\\xbf\\x13\\xfd|-N\\x9c\\xc8R\"4\\x12\\xf82\\xcfG\\xc7%\\xa0\\xf5\\x7fZ\\xb44\\xf1\\xcb\\x9dy\\xc47\\t\\xc3\\xab\\xc8\\xf0\\xc9\\x82\\x8b\\x1f\\xa8\\xde\\x01\\x00\\x00\\xff\\xff\\x03\\x00PK\\x03\\x04\\x14\\x00\\x06\\x00\\x08\\x00\\x00\\x00!\\x00\\x81>\\x94\\x97\\xf3\\x00\\x00\\x00\\xba\\x02\\x00\\x00\\x1a\\x00\\x08\\x01xl/_rels/workbook.xml.rels \\xa2\\x04\\x01(\\xa0\\x00\\x01\\x00\\x00\\x00\\x00\\x00\\x00\\x00\\x00\\x00\\x00\\x00\\x00\\x00\\x00\\x00\\x00\\x00\\x00\\x00\\x00\\x00\\x00\\x00\\x00\\x00\\x00\\x00\\x00\\x00\\x00\\x00\\x00\\x00\\x00\\x00\\x00\\x00\\x00\\x00\\x00\\x00\\x00\\x00\\x00\\x00\\x00\\x00\\x00\\x00\\x00\\x00\\x00\\x00\\x00\\x00\\x00\\x00\\x00\\x00\\x00\\x00\\x00\\x00\\x00\\x00\\x00\\x00\\x00\\x00\\x00\\x00\\x00\\x00\\x00\\x00\\x00\\x00\\x00\\x00\\x00\\x00\\x00\\x00\\x00\\x00\\x00\\x00\\x00\\x00\\x00\\x00\\x00\\x00\\x00\\x00\\x00\\x00\\x00\\x00\\x00\\x00\\x00\\x00\\x00\\x00\\x00\\x00\\x00\\x00\\x00\\x00\\x00\\x00\\x00\\x00\\x00\\x00\\x00\\x00\\x00\\x00\\x00\\x00\\x00\\x00\\x00\\x00\\x00\\x00\\x00\\x00\\x00\\x00\\x00\\x00\\x00\\x00\\x00\\x00\\x00\\x00\\x00\\x00\\x00\\x00\\x00\\x00\\x00\\x00\\x00\\x00\\x00\\x00\\x00\\x00\\x00\\x00\\x00\\x00\\x00\\x00\\x00\\x00\\x00\\x00\\x00\\x00\\x00\\x00\\x00\\x00\\x00\\x00\\x00\\x00\\x00\\x00\\x00\\x00\\x00\\x00\\x00\\x00\\x00\\x00\\x00\\x00\\x00\\x00\\x00\\x00\\x00\\x00\\x00\\x00\\x00\\x00\\x00\\x00\\x00\\x00\\x00\\x00\\x00\\x00\\x00\\x00\\x00\\x00\\x00\\x00\\x00\\x00\\x00\\x00\\x00\\x00\\x00\\x00\\x00\\x00\\x00\\x00\\x00\\x00\\x00\\x00\\x00\\x00\\x00\\x00\\x00\\x00\\x00\\x00\\x00\\x00\\x00\\x00\\x00\\x00\\x00\\x00\\x00\\x00\\x00\\x00\\x00\\x00\\x00\\x00\\x00\\x00\\x00\\x00\\x00\\xacRMK\\xc40\\x10\\xbd\\x0b\\xfe\\x870w\\x9bv\\x15\\x11\\xd9t/\"\\xecU\\xeb\\x0f\\x08\\xc9\\xb4)\\xdb&!3~\\xf4\\xdf\\x1b*\\xba]X\\xd6K/\\x03o\\x86y\\xef\\xcd\\xc7v\\xf75\\x0e\\xe2\\x03\\x13\\xf5\\xc1+\\xa8\\x8a\\x12\\x04z\\x13l\\xef;\\x05o\\xcd\\xf3\\xcd\\x03\\x08b\\xed\\xad\\x1e\\x82G\\x05\\x13\\x12\\xec\\xea\\xeb\\xab\\xed\\x0b\\x0e\\x9as\\x13\\xb9>\\x92\\xc8,\\x9e\\x148\\xe6\\xf8(%\\x19\\x87\\xa3\\xa6\"D\\xf4\\xb9\\xd2\\x864j\\xce0u2js\\xd0\\x1d\\xcaMY\\xde\\xcb\\xb4\\xe4\\x80\\xfa\\x84S\\xec\\xad\\x82\\xb4\\xb7\\xb7 \\x9a)f\\xe5\\xff\\xb9C\\xdb\\xf6\\x06\\x9f\\x82y\\x1f\\xd1\\xf3\\x19\\tI<\\ry\\x00\\xd1\\xe8\\xd4!+\\xf8\\xc1E\\xf6\\x08\\xf2\\xbc\\xfcfMy\\xcek\\xc1\\xa3\\xfa\\x0c\\xe5\\x1c\\xabK\\x1e\\xaa5=|\\x86t \\x87\\xc8G\\x1f\\x7f)\\x92s\\xe5\\xa2\\x99\\xbbU\\xef\\xe1tB\\xfb\\xca)\\xbf\\xdb\\xf2,\\xcb\\xf4\\xeff\\xe4\\xc9\\xc7\\xd5\\xdf\\x00\\x00\\x00\\xff\\xff\\x03\\x00PK\\x03\\x04\\x14\\x00\\x06\\x00\\x08\\x00\\x00\\x00!\\x00\\xf67s\\xe0H\\x02\\x00\\x00\\xaf\\x04\\x00\\x00\\x0f\\x00\\x00\\x00xl/workbook.xml\\xacTMo\\xdb0\\x0c\\xbd\\x0f\\xd8\\x7f\\x10tO\\xfd\\xd1\\xb8i\\x8d\\xd8E\\x9b\\xa4X\\x81a(\\xba\\xb4\\xbd\\xe4\\xa2\\xc8t,D\\x1f\\x9e$/)\\x86\\xfd\\xf7\\xd1r\\xb3u\\xcb\\xa5\\xc3v\\x11)\\x99|\"\\xdf\\xa3<\\xbd\\xdc+I\\xbe\\x82u\\xc2\\xe8\\x82&\\'1%\\xa0\\xb9\\xa9\\x84\\xde\\x14\\xf4ay3:\\xa7\\xc4y\\xa6+&\\x8d\\x86\\x82>\\x83\\xa3\\x97\\xe5\\xfbw\\xd3\\x9d\\xb1\\xdb\\xb51[\\x82\\x00\\xda\\x15\\xb4\\xf1\\xbe\\xcd\\xa3\\xc8\\xf1\\x06\\x14s\\'\\xa6\\x05\\x8d_jc\\x15\\xf3\\xb8\\xb5\\x9b\\xc8\\xb5\\x16X\\xe5\\x1a\\x00\\xafd\\x94\\xc6\\xf1Y\\xa4\\x98\\xd0t@\\xc8\\xed[0L]\\x0b\\x0es\\xc3;\\x05\\xda\\x0f \\x16$\\xf3X\\xbekD\\xeb\\x0eh\\x8a\\xbf\\x05N1\\xbb\\xed\\xda\\x117\\xaaE\\x88\\xb5\\x90\\xc2?\\x07PJ\\x14\\xcfo7\\xdaX\\xb6\\x96\\xd8\\xf6>\\xc9\\x0e\\xc8\\xe8\\x1eA+\\xc1\\xadq\\xa6\\xf6\\'\\x08\\x15\\rE\\x1e\\xf5\\x9b\\xc4Q\\x92\\x0c-\\x97\\xd3ZHx\\x1ch\\'\\xacm?1\\xd5\\xdf\")\\x91\\xcc\\xf9E%<T\\x05\\x9d\\xe0\\xd6\\xec\\xe0\\xb7\\x03\\xdb\\xb5\\xd7\\x9d\\x90\\xf85\\x99$\\xe9\\x84F\\xe5O)\\xee,\\xa9\\xa0f\\x9d\\xf4K\\x14\\xe1\\x00\\x8f\\x81\\xd9i\\x9a\\xa6}$6u%=X\\xcd<\\xcc\\x8c\\xf6\\xc8\\xe1\\x0b\\xfb\\xff\\xcaW\\xc0\\x9e5\\x06\\xd5!\\xf7\\xf0\\xa5\\x13\\x16p(z\\xda\\xca)\\xae\\x8c\\xe7l\\xed\\xee\\x98oHgeAg\\xf9\\xea\\xc1a\\xfb+\\xc5\\xb4\\xd8\\xae\\xe6\\xe0\\xb6\\xde\\xb4\\xab\\x1bc\\x81#\\x018}\\xabW|\\xb3c1\\xff\\x82q\\xc6\\xfb\\xd6#\\xec}\\xa8o\\xf0\\xff\\xe4\\xa1\\x9c\\xf6\\xd3\\xfc(`\\xe7~1\\xdao\\xc9\\xfeI\\xe8\\xca\\xec\\n\\x8ao\\xe3\\xf9\\x95\\xbf\\x0b\\xc7O\\xa2\\xf2MA\\xd3x|qF\\xc9p\\xf6\\x01\\xc4\\xa6\\xf1\\xa8\\xdf$\\x0b\\xb4G\\xaf\\xa0\\xc3\\xfc\\xe3\\x15\\xc1\\x12\\x1dt\\xff\\xdc\\xbf\\x89\\x04\\x1fZoo{i)\\xb1\\xb9@\\xc7\\xdeVI\\xa8\\xfe\\x90\\xc6\\x99\\xe4\\xa8soB`\\x96f\\tF\\xe3\\xbcX\\xd44d\\xbe\\xf83\\xd3i\\xac!\\xa4\\xc3\\xde\\x7ft\\xbe\\x9c\\xa2E\\xfeEA\\xbf%\\xe3\\xf8j\\x12_\\x8cG\\xf1\\xe24\\x1b\\x8d\\xcf/\\xd2\\xd1\\xf9\\xf84\\x1d\\xcd\\xc6\\xf3t\\x91M\\x16\\xf3\\xc5u\\xf6\\xfd\\xff\\x8e<\\x8eA~\\xf8k\\xf4-4\\xcc\\xfa\\xa5e|\\x8bj\\xdfC}\\xcd\\\\\\xa8\\xbf\\xd7\\n\\xeb\\x1c\\xd6Put\\xc8*\\x7f\\x00\\x00\\x00\\xff\\xff\\x03\\x00PK\\x03\\x04\\x14\\x00\\x06\\x00\\x08\\x00\\x00\\x00!\\x00\\xc1uC\\xc3\\x1f\\x01\\x00\\x00@\\x04\\x00\\x00\\x14\\x00\\x00\\x00xl/sharedStrings.xmll\\xd4MK\\xc40\\x14\\x85\\xe1\\xbd\\xe0\\x7f(\\xd9;\\xe9\\x97cG\\xd2\\xceBp?\\xa8\\xeb!\\xb4qZh\\xd3\\xda\\xa4\\xa2\\xff\\xde#\\x82\\x88\\xe7.\\xf3\\xdc\\xe4\\xdd\\xdd\\x98\\xe3\\xc74&\\xefn\\r\\xc3\\xeck\\x95\\xedR\\x958\\xdf\\xce\\xdd\\xe0/\\xb5zy~\\xbc\\xa9T\\x12\\xa2\\xf5\\x9d\\x1dg\\xefj\\xf5\\xe9\\x82:6\\xd7W&\\x84\\x98\\xe0\\xad\\x0f\\xb5\\xeac\\\\\\xee\\xb5\\x0em\\xef&\\x1bv\\xf3\\xe2<&\\xaf\\xf3:\\xd9\\x88\\xe3z\\xd1aY\\x9d\\xedB\\xef\\\\\\x9cF\\x9d\\xa7\\xe9^Ov\\xf0*i\\xe7\\xcd\\xc7Z\\x95\\xa5J6?\\xbcm\\xee\\xe1\\x17\\x1a\\x13\\x86\\xc6\\xc4\\xe6\\xb4\\xd95\\xba\\xd5\\xe8\\xd8\\x18\\xfdM?\\xfcdG\\x17\\xfe\\xe3);W{\\xc2\\\\\\xc2B\\xc2RB4\\xef\\xa4&#\\x9a\\x8ch2\\xa2YIMF4\\x19\\xd1dD\\xf3 5\\x19\\xd1dD\\x931;\\x1fR\\xa1)`!\\xdd,%D3\\x93\\x9a\\x8ch2\\xa2\\xc9\\x88f.5\\x19\\xd1dD\\x93\\x11\\xcdBj2\\xa2\\xc9\\x88&#\\x9a\\xa5\\xd4dD\\x93\\x11MF4o\\xa5&#\\x9a\\x8ch2\\xa2)\\xed\\xd1_\\xd4\\xf8\\x01\\x9a/\\x00\\x00\\x00\\xff\\xff\\x03\\x00PK\\x03\\x04\\x14\\x00\\x06\\x00\\x08\\x00\\x00\\x00!\\x00\\xbe\\\\RMN\\x07\\x00\\x00\\xc8 \\x00\\x00\\x13\\x00\\x00\\x00xl/theme/theme1.xml\\xecYKo\\x1b7\\x10\\xbe\\x17\\xe8\\x7fX\\xec]\\xd1kW\\x0f#r\\xa0g\\xdc\\xc4N\\x8cXI\\x91#-QZ\\xda\\xdc\\xa5@Rv\\x84 @\\x91\\x1c\\x0b\\x14(\\x9a\\x16\\xbd\\x14\\xe8\\xad\\x87\\xa2m\\x80\\x04\\xe8%\\xfd5nS\\xb4)\\x90\\xbf\\xd0!W\\xd2\\x92\\x16U;i\\x02\\xa4\\x85-\\xc0\\xd0R\\xdf\\x0c\\x873\\xc3\\x8f\\xb3\\xc3\\xcbW\\xee\\xc5\\xd4;\\xc2\\\\\\x10\\x964\\xfc\\xe2\\xa5\\x82\\xef\\xe1d\\xc0\\x86$\\x197\\xfc\\xdb\\xfd^\\xae\\xe6{B\\xa2d\\x88(Kp\\xc3\\x9fa\\xe1_\\xd9\\xfc\\xf0\\x83\\xcbhCF8\\xc6\\x1e\\xc8\\'b\\x035\\xfcH\\xca\\xc9F>/\\x060\\x8c\\xc4%6\\xc1\\t\\xfc6b<F\\x12\\x1e\\xf98?\\xe4\\xe8\\x18\\xf4\\xc64_*\\x14*\\xf9\\x18\\x91\\xc4\\xf7\\x12\\x14\\x83\\xda\\x9b\\xa3\\x11\\x19`\\xaf\\xafT\\xfa\\x9b\\x0b\\xe5]\\n\\x8f\\x89\\x14j`@\\xf9\\x9eR\\x8d-\\t\\x8d\\x1d\\x1e\\x16\\x15B\\xccD\\x9br\\xef\\x08\\xd1\\x86\\x0f\\xf3\\x0c\\xd9q\\x1f\\xdf\\x93\\xbeG\\x91\\x90\\xf0C\\xc3/\\xe8??\\xbfy9\\x8f6\\xe6BT\\xae\\x915\\xe4z\\xfao.7\\x17\\x18\\x1e\\x96\\xf4\\x9c|\\xbc\\xbf\\x9c4\\x08\\xc2\\xa0\\xd2\\\\\\xea\\xd7\\x00*Wq\\xddj\\xb7\\xd2\\xad,\\xf5i\\x00\\x1a\\x0c`\\xa5\\xa9-\\xa6\\xce\\xb0Uou\\xc29\\xd6\\x00\\xa5_\\x1d\\xba;\\xd5N\\xb9h\\xe1\\r\\xfd\\xe5\\x15\\x9b\\x9b\\xa1\\xfaXx\\rJ\\xf5\\x07+\\xf8^\\xaf\\r^\\xb4\\xf0\\x1a\\x94\\xe2C\\x87O\\xaa\\xa5v`\\xe15(\\xc5WV\\xf0\\xd5B\\xb3\\x13T-\\xbc\\x06E\\x94$\\x87+\\xe8BX)\\xb7\\x17\\xab]BF\\x8cn9\\xe1\\xf50\\xe8UKs\\xe5\\x19\\n\\xb2a\\x99]j\\x8a\\x11K\\xe4\\xba\\\\\\x8b\\xd1\\x01\\xe3=\\x00( E\\x92$\\x9e\\x9cM\\xf0\\x08\\r \\x8b\\xdb\\x88\\x92}N\\xbcm2\\x8e \\xf1&(a\\x02\\x86\\x0b\\xa5B\\xafP\\x86\\xff\\xea\\x13\\xe8o\\xda#h\\x03#CZ\\xd9\\x05\\x96\\x88\\x95!e\\x8f\\'\\x06\\x9cLd\\xc3\\xbf\\x06Z}\\x03\\xf2\\xea\\xf9\\x0f\\xaf\\x9e?\\xf5^=\\x7fr\\xf2\\xf0\\xd9\\xc9\\xc3\\x9fO\\x1e=:y\\xf8S\\xaa\\xcb\\x12\\xdcB\\xc9\\xd8\\x14|\\xf9\\xdd\\xe7\\x7f}\\xf3\\x89\\xf7\\xe7\\xd3o_>\\xfe\\xd2\\x8d\\x17&\\xfe\\xb7\\x1f?\\xfd\\xf5\\x97/\\xdc@Xl\\xe6\\x85\\x17_=\\xf9\\xfd\\xd9\\x93\\x17_\\x7f\\xf6\\xc7\\xf7\\x8f\\x1d\\xf0&G\\xfb&\\xbcOb,\\xbc\\x1b\\xf8\\xd8\\xbb\\xc5bX\\x9b\\xf6\\x82m9\\xde\\xe7\\xaf\\'\\xd1\\x8f\\x10\\xb1$P\\x04\\xba\\x1d\\xaa\\xbb2\\xb2\\x807f\\x88\\xbap-l;\\xef\\x0e\\x07\\x82q\\x01\\xafN\\x0f,[\\xf7\">\\x95\\xc41\\xf3\\xf5(\\xb6\\x80;\\x8c\\xd1\\x16\\xe3N\\x07\\\\Ws\\x19\\x1e\\xeeO\\x93\\xb1{r>5q\\xb7\\x10:r\\xcd\\xddF\\x89\\x15\\xda\\xeet\\x02\\xccJ\\\\*\\xdb\\x11\\xb6\\xcc\\xdc\\xa5(\\x91h\\x8c\\x13,=\\xf5\\x1b;\\xc4\\xd8\\xb1\\xba\\xbb\\x84X~\\xdd!\\x03\\xce\\x04\\x1bI\\xef.\\xf1Z\\x888]\\xd2\\'\\xfbV\"eB[$\\x86\\xb8\\xcc\\\\\\x06B\\xa8-\\xdf\\xec\\xdc\\xf1Z\\x8c\\xbaV\\xdd\\xc1G6\\x126\\x04\\xa2\\x0e\\xe3\\xfb\\x98Zn\\xbc\\x8a\\xa6\\x12\\xc5.\\x95}\\x14S\\xd3\\xe1\\xdbHF.#\\xf7f|`\\xe2\\xbaBB\\xa4\\xc7\\x982\\xaf;\\xc4B\\xb8dnrX\\xaf\\x11\\xf4\\xeb@.\\xee\\xb0\\xef\\xd0Yl#\\xb9$\\x87.\\x9d\\xdb\\x881\\x13\\xd9a\\x87\\xed\\x08\\xc5\\x13\\xa7\\xcd$\\x89L\\xecG\\xe2\\x10R\\x14y\\xbbL\\xba\\xe0;\\xcc\\xde!\\xea\\x19\\xe2\\x80\\x92\\xb5\\xe1\\xbeC\\xb0\\x15\\xee\\xb3\\x89\\xe06\\xf0\\xaaiR\\x96 \\xea\\x97)w\\xc4\\xf2*f\\xf6~\\x9c\\xd1\\x11\\xc2.\\x96i\\xf2\\xd8\"\\xd6&\\'\\xce\\xechM\\xc7VjocL\\xd11\\x1ab\\xec\\xdd\\xfe\\xc8aA\\x8bM,\\x9fgF_\\x8b\\x80U\\xb6\\xb0+\\xb1\\xae!;W\\xd5s\\x82\\x05TH\\xaa\\xa4Y\\xa5\\xc8m\"\\xac\\x94\\xdd\\xc3c\\xb6\\xc6\\x9e\\x9d\\xd9)\\xe2\\x99\\xa1$F|\\x9d\\xe6\\x1b\\x10u+u\\xe1\\x80sR\\xe9M:84\\x817\\x08T~\\x90/N\\xa7\\xdc\\x14\\xa0\\xc3H\\xee\\xee:\\xad\\xbb\\x11\\xb2N-\\xf5,\\xdc\\xf9:\\xe3V\\xfc\\xce\\xb3\\xc7`_\\x1e\\xbc\\xee\\xbe\\x04\\x19\\xfc\\xda2@\\xec\\xe7\\xf6M\\x1fQk\\x82,a\\xfa\\x08j\\x0b\\x17\\xdd\\x82\\x88\\x15\\xfeLD\\x9d\\xabZl\\xea\\x94\\x1b\\xd9\\x9b6\\x0b\\x03\\xd4DV\\xa9\\x13\\x93\\xe4\\xcc\\xba\\xe7T\\xc5\\x13^T<i\\xc9v\\xba\\xe2Y\\xc7,[\\xa7\\xea\\x9cu\\xb8\\xff`u\\xd3A\\xd3d\\x17\\xc3\\x81\\xb2J]\\x17\\xc5\\xcdEq\\xe3\\xff\\xef\\x8b\\x9bu{\\xf9\\xa2\\xa4\\xb9(i.J\\x1a\\xd7K\\xd8;)i\\xb2*\\x06\\n\\x9c\\xac\\xcf\\xa3\\xbb>\\xf1\\xda\\xa6\\xcf\\x88P\\xba\\'g\\x14o\\x0b\\xdd\\xf7\\x11\\xf0b3\\xec\\xc1\\xa0nH\\xe9\\xae\\xe4\\xb2\\t8\\x89\\xe0\\xeb\\xbc\\xc5d\\xe1\\xc6\\x1ci\\x19\\x8f3\\xf91\\x91\\xd1^\\x84&\\xd0\\x1c*\\xea\\x16\\xe6X\\xccU\\x8f\\x857a\\x02zFzX7S\\xf1)\\xdd\\xba\\xf34\\x8dw\\xd80\\xedu\\x16\\x8b\\xaa\\xaf\\x99\\xbaP \\x99\\x8d\\x17\\xc2\\xe58\\xf4\\xa9d\\x8a\\xaeT\\xb3\\xfe\\xddR\\xbd\\xee\\x88\\x8eu\\x9fua\\x80\\x92}\\x1d#\\x8c\\xc9l#\\xca\\x0e#\\xaa\\x8bA\\x88\\xc2?\\x19\\xa1W\\xf6V\\xac\\xa8;\\xac\\xa8)\\xf5\\x8bP-\\xa2\\xb8t\\x05\\x98\\xb6\\x8c\\n\\xbcy{\\xf0\\xbe\\xde\\xf0\\xc3 \\xed!C;\\x0e\\xaa\\xf4\\xa1\\x8aS\\xdaN^DW\\x05\\xe7\\xadFz\\x9d3\\xa9\\x99\\x01Pi/2 \\x8bt]\\xd9\\xbavyjui\\xaa\\x9d#\\xd2\\x96\\x11F\\xba\\xd9F\\x18i\\x18\\xc1\\xfb\\xf0<;\\xcd\\xa6\\xfb\\xdb\\x8cu=\\x0b\\xa9e\\x9er\\xc5b7dfTk\\xef\"\\xd6\\x8aDNq\\x03ML\\xa6\\xa0\\x89w\\xdc\\xf0+\\xe5\\x10\\xeeU\\x06h\\xd2\\xf0G\\xd03\\x86\\xaf\\xf1\\x04rG\\xa8\\x97/D\\xc7p\\xf12\\x90<\\xdd\\xf0o\\xc2,\\x13.d\\x07\\x89(u\\xb8&\\x9d\\x94\\rb\"1\\xf7(\\x89\\x1b\\xbeZ\\xfe2\\x1bh\\xa29D\\xdbV,\\x01!\\xbc\\xb7\\xc6\\xd5\\x81V\\xde7\\xe3 \\xe8v\\x90\\xf1h\\x84\\x07\\xd2\\x0c\\xbb1\\xa2<\\x9d>\\x02\\xc3\\xa7\\\\\\xe1\\xfcU\\x8b\\xbf9XI\\xb2)\\x84{/\\x1a\\x1e{\\xfbt\\xcao!H\\xb1\\xb0ZT\\x0e\\x1c\\x12\\x01W\\x07\\xc5\\xd4\\x9bC\\x02waK\"\\xcb\\xf2\\xef\\xd4\\xc14\\xa7]\\xf32J\\xe7P:\\x8e\\xe8$B\\xf3\\x13\\xc5$\\xf3\\x14\\xaeIti\\x8e~Z\\xfa\\xc0x\\x9a\\xaf\\x19\\x1c\\xba\\xea\\xc2\\xfd\\xb1:`\\xff\\xf5\\xa9{\\xf6Q\\xad<g\\x90fvfZ\\xac\\xa2NM7\\x99\\xbe\\xbbC\\xde\\xb0*;D-\\xabR\\xea\\xd6\\xef\\xd4\"\\xe3\\xba\\xfa\\x82\\xeb Q\\x9d\\xa7\\xc4\\x19\\xa7\\xee9\\x0e\\x04\\xc3\\xb4l2\\xcb4e\\xf1*\\r+\\xce\\x9e\\x8f\\xda\\xa6\\xbd\\xc5\\x82\\xc0\\xf0De\\x8d\\xdf\\x96g\\x84\\xd3\\x13oz\\xf2\\x83\\xdc\\xe9\\xacU\\x07\\xc4\\xa2\\xae\\xd4\\x89\\xaf/\\xcd\\xcd{m\\xb6\\x7f\\x00\\xe4\\xd1\\x81\\x1b\\xc4)\\x95B\\x87\\x12Z\\xbc\\x1cA\\xd1\\x97\\xdeA\\xa6\\xb4\\x01[\\xe4\\x9e\\x9c\\xd7\\x88\\xf0\\xcd\\x9br\\xd2\\xf0\\xef\\x17\\xc2f\\xd0.\\x85\\xed\\\\\\xa1\\x16vsA9(\\xe4ja\\xb3\\x9ck\\x86a\\xb9\\xd8\\r\\x8b\\x85N\\xab\\xf4\\x00\\x0e\\x16\\x19\\xc5\\xc50\\xbd\\xb0\\xef\\xc1M\\x06\\x9d\\xcd\\xaf\\xed\\xf5\\xf8\\xca\\xd5}\\xbc\\xb8\\xac\\xb94`q\\x9e\\xe9\\xab\\xf9\\xbc6\\\\_\\xdd\\x17K\\xeb\\xaf\\xee=\\x02\\xa4s\\xbfR\\xea\\xd5\\xcb\\xf5V%W/7{\\xb9\\xa0\\xd3\\xaa\\xe5\\xea\\xedJ+\\xd7\\xa9\\xb4\\xab\\x9d^\\xa7\\x1d\\xd6\\xea\\xbd\\x07\\xbew\\xa4\\xc1A\\xb3\\xdc\\x0e*\\xddZ\\xaeRl\\xb7sA\\xa5\\xa0\\xcc\\xaf\\xd5s\\xd5\\xa0Tj\\x06\\xd5f\\xad\\x1b4\\x1f\\xcc\\xcb\\x18XyJ\\x1fs_\\x80{\\xb5]\\x9b\\x7f\\x03\\x00\\x00\\xff\\xff\\x03\\x00PK\\x03\\x04\\x14\\x00\\x06\\x00\\x08\\x00\\x00\\x00!\\x00\\xc6cz\\x0f\\xc5\\x02\\x00\\x00\\x16\\x07\\x00\\x00\\r\\x00\\x00\\x00xl/styles.xml\\xb4U[k\\xdb0\\x14~\\x1f\\xec?\\x08\\xbd\\xbb\\xb6\\x9c8K\\x82\\xed\\xb245\\x14\\xba1H\\x07{Ul9\\x11\\xd5\\xc5\\xc8J\\xe7l\\xec\\xbf\\xef\\xc8\\x97\\xc4\\xa5\\xdd\\xade/\\xb1tt\\xcew\\xbesM|\\xd9H\\x81\\x1e\\x98\\xa9\\xb9V\\t&\\x17\\x01FL\\xe5\\xba\\xe0j\\x97\\xe0\\xcfw\\x997\\xc7\\xa8\\xb6T\\x15Th\\xc5\\x12|d5\\xbeL\\xdf\\xbe\\x89k{\\x14l\\xb3g\\xcc\"\\x80Pu\\x82\\xf7\\xd6VK\\xdf\\xaf\\xf3=\\x93\\xb4\\xbe\\xd0\\x15S\\xf0Rj#\\xa9\\x85\\xab\\xd9\\xf9ue\\x18-jg$\\x85\\x1f\\x06\\xc1\\xcc\\x97\\x94+\\xdc!,e\\xfe7 \\x92\\x9a\\xfbC\\xe5\\xe5ZV\\xd4\\xf2-\\x17\\xdc\\x1e[,\\x8cd\\xbe\\xbc\\xd9)m\\xe8V\\x00\\xd5\\x86Li\\x8e\\x1a23\\xe1\\xe0\\xa1\\x15=q\"ynt\\xadK{\\x01\\xa0\\xbe.K\\x9e\\xb3\\xa7\\\\\\x17\\xfe\\xc2\\xa7\\xf9\\x19\\t`_\\x86D\"?\\x08\\xbb\\xc0\\xd3\\xb8\\xd4\\xca\\xd6(\\xd7\\x07e\\x13\\xecx:\\xd2\\xcb{\\xa5\\xbf\\xaa\\xcc=AMp\\xa7\\x95\\xc6\\xf57\\xf4@\\x05H\\x08\\xf6\\xd38\\xd7B\\x1bd!\\xd9\\x10k+QT\\xb2N\\xe3\\x8a\\n\\xbe5\\xdc\\xa9\\x95Trq\\xec\\xc4\\xa1\\x13\\xb4\\xf5\\xe9\\xf5$\\x87l9\\xa1\\xefx\\x0c~\\xb6N\\xeb\\xbf\\xfbj]\\xd6\\xe0\\x93\\x0b1\\xca@\\'Hc(\\xaeeFe\\xf0\\x8a\\xfa\\xf3\\xdd\\xb1\\x82P\\x15\\xf4aG\\x19\\x9e\\xfe\\xa8\\xbd3\\xf4H\\xc2hd\\xe0\\xb7\\x0e\\xd3x\\xabM\\x01}?\\xe4\\xde\\xa5\\xb9\\x13\\xa5\\xb1`\\xa5\\x85\\x1c\\x18\\xbe\\xdb\\xbb\\xaf\\xd5\\x15\\xfcn\\xb5\\xb5\\xd0\\x1ei\\\\p\\xba\\xd3\\x8a\\n\\x97\\xb6\\xc1\\xa2?@89\\x13b\\xe3f\\xe3K\\xf9\\x08\\xbb)\\x91:\\xc8L\\xda\\x9b\"\\xc10e.\\xe1\\xc3\\x11\\x02\\xe9\\x8f\\x1d^wq\\xf8c\\xb4\\x0e{\\x04;\\x01\\xca\\xff\\x0e\\x8b\\x9a\\xf2\\x84\\xff+k\\x02\\xfc\\x9e\\'u\\xb2F\\xb4\\xaa\\xc4\\xd1\\xf5\\xa8\\xeb\\xbe\\xfe\\x066}/\\xbe\\x82\\xd7\\x13\\xac6\\x0b\\x10\\xf7(\\xb9\\x8fR{J\\x12r\\x13\\x90\\xe0\\x8fn\\xe5\\x08\\x98\\xa5>P\\xb4=pa\\xb9z&\\xad\\x80Y4\\xe7B\\x05\\xaeO\\xac[\\x1fm\\tO^\\xa0^\\x05+\\xe9A\\xd8\\xbb\\xd3c\\x82\\xcf\\xe7\\x0f\\xac\\xe0\\x07\\t\\xe3\\xdbk}\\xe2\\x0f\\xda\\xb6\\x10\\t>\\x9fo]?\\x91\\x99\\xf3\\xc1\\x1a{[\\xc3\\xc0\\xc1\\x17\\x1d\\x0cO\\xf0\\xf7\\xeb\\xd5\\xbb\\xc5\\xfa:\\x0b\\xbdy\\xb0\\x9a{\\xd3\\t\\x8b\\xbcE\\xb4Z{\\xd1\\xf4j\\xb5^g\\x8b \\x0c\\xae~\\x8c\\xf6\\xd8+\\xb6X\\xbbs\\xa1u\\xc8tY\\x0b\\xd8u\\xa6\\x0f\\xb6\\'\\xbf9\\xcb\\x12<\\xbat\\xf4\\xdbI\\x02\\xdac\\xee\\x8bp\\x16\\xbc\\x8fH\\xe0e\\x93\\x80x\\xd3\\x19\\x9d{\\xf3\\xd9$\\xf2\\xb2\\x88\\x84\\xeb\\xd9tu\\x1de\\xd1\\x88{\\xf4\\xc2\\xbd\\x19\\xf8\\x84\\x0c{\\xb3!\\xd1\\xd2r\\xc9\\x04WC\\xad\\x86\\n\\x8d\\xa5P$\\xb8\\xfe&\\x08\\x7f\\xa8\\x84\\x7f\\xfeCK\\x7f\\x02\\x00\\x00\\xff\\xff\\x03\\x00PK\\x03\\x04\\x14\\x00\\x06\\x00\\x08\\x00\\x00\\x00!\\x00\\x11\\xa1\\xaeN\\x99\\x05\\x00\\x00(\\x18\\x00\\x00\\x18\\x00\\x00\\x00xl/worksheets/sheet1.xml\\x94\\x98\\xdbn\\xdb8\\x10\\x86\\xef\\x17\\xd8w0t_\\x99\\xe7C`\\xbbh7(\\xb6\\x17\\x0b,\\xba\\x87{E\\xa6\\x13\\xa1\\xb6\\xe5\\x95\\xd4\\xa4}\\xfb\\x1dR\\x15m\\x8dB \\xbc1\\xe4\\xe47\\xe7\\xd7p\\xf8q\\xc8\\xcd\\xfb\\xef\\xa7\\xe3\\xea\\xd9u}\\xd3\\x9e\\xb7\\x05-I\\xb1r\\xe7\\xba\\xdd7\\xe7\\xc7m\\xf1\\xcf\\xdf\\x9f\\xde\\x99b\\xd5\\x0f\\xd5y_\\x1d\\xdb\\xb3\\xdb\\x16?\\\\_\\xbc\\xdf\\xfd\\xfa\\xcb\\xe6\\xa5\\xed\\xbe\\xf6O\\xce\\r+\\x18\\xe1\\xdco\\x8b\\xa7a\\xb8\\xdc\\xad\\xd7}\\xfd\\xe4NU_\\xb6\\x17w\\x86\\xff\\x1c\\xda\\xeeT\\r\\xf0\\xb5{\\\\\\xf7\\x97\\xceU\\xfb\\xf0\\xa3\\xd3q\\xcd\\x08Q\\xebS\\xd5\\x9c\\x8bq\\x84\\xbb\\xee-c\\xb4\\x87CS\\xbb\\xfb\\xb6\\xfevr\\xe7a\\x1c\\xa4s\\xc7j\\x00\\xff\\xfdSs\\xe9\\xa7\\xd1N\\xf5[\\x86;U\\xdd\\xd7o\\x97wu{\\xba\\xc0\\x10\\x0f\\xcd\\xb1\\x19~\\x84A\\x8b\\xd5\\xa9\\xbe\\xfb\\xfcxn\\xbb\\xea\\xe1\\x08\\xef\\xfd\\x9d\\x8a\\xaa\\x9e\\xc6\\x0e_\\x16\\xc3\\x9f\\x9a\\xbak\\xfb\\xf60\\x940\\xdcz4\\xba|g\\xbb\\xb6k\\x18i\\xb7\\xd97\\xf0\\x06>\\xed\\xab\\xce\\x1d\\xb6\\xc5\\x07z\\xf7Q\\xf0b\\xbd\\xdb\\x84\\x04\\xfd\\xdb\\xb8\\x97\\xfe\\xe6y5T\\x0f\\x7f\\xb9\\xa3\\xab\\x07\\xb7\\x87y*V>\\xff\\x0fm\\xfb\\xd5\\x0b?\\xc3\\x9f\\x08\\x0c\\xd9\\x07\\x81\\x1f\\xb2\\xaa\\x87\\xe6\\xd9\\xfd\\xe6\\x8e\\xc7mq\\xcf`\\n\\xff\\x0bA\\xe0\\x11\\x02\\xacc\\x84\\xdb\\xe7)\\xda\\xa70c\\x7fv\\xab\\xbd;T\\xdf\\x8e\\xc3\\x97\\xf6\\xe5w\\xd7<>\\r\\x10V\\x94\\x02r\\xe0Sq\\xb7\\xffq\\xef\\xfa\\x1a\\xe6\\x00B\\x97W\\xdf\\xf7\\xd5P\\xed6]\\xfb\\xb2\\x82\\xe9\\x04\\x9b\\xfd\\xa5\\xf2\\xc5A\\xef\\xc0\\xc4\\xab?\\xdcmj/\\xfd\\xe0\\xb5\\xe1\\x170`\\x0f\\xef\\xf2\\xbc#\\x9b\\xf53\\x18\\xac\\x7f*>.\\x154*\\xd6\\x101\\x86\\xf5\\xef\\xfb\\xd6\\xb0^\\xbb-\\xe03\\x86e(\\xec\\xa4\\xf0\\x96\\xa8\\xe6\\xa24LYk\\x95\\x12\\x9c(\\xf5\\xba\\x03\\x9e\\xe1\\xc0k\\xe7\\x0e8r0)\\xbc\\x03\\xc6\\x84(\\xad\"\\xd6\\x1a\\xc9%\\x95\\xea*\\x9e\\xe5\\x00\\xe6\\xe9\\xcd9\\xf0\\xda\\xb9\\x03\\x81\\x1cL\\x8a\\xe0@r^\\x1a\"\\xaceJKmh\\xc2\\x81\\xccp\\xe0\\xb5s\\x07\\x129\\x98\\x14\\xc1\\x01\\x95>\\x07\\xccZ-\\xb8\\x92\\x8c_\\xed\\xcer\\xa02\\x1cx\\xed\\xdc\\xc1ujC\\x81~\\x9c\\x14\\xa1\\x0e\\xa4\\xd0\\xa5\\xa1\\x06\\xca@0+D\\xca\\x81\\xcep\\xe0\\xb5s\\x07\\x1a\\xe5`R\\x8c9 \\xb0\\x18)\\xb5VX.\\x88\\xb9V\\xed,\\x05\\x9e\\xdeo]\\n^;7`\\x90\\x81I\\x11\\x0c\\x10\\xa0\\x01\\xf7\\x93``*\\x04a\\x892\\xb0\\x19\\x0e\\xbcv\\xee\\xc0\"\\x07\\x93\"L\\x82\\xb5\\xb4\\xd4\\x02\\x16\\xa36\\x9c3\\x99H\\x01\\x85-\\xed\\xed\\x14\\xf2\\xe2\\xb9\\x05\\xba\\xe0\\xd0\\xa4\\t&\\x8c\\xb2\\xa5_\\x0c\\xb0\\x1c\\xb8&\\x8a\\\\\\x0bw6\\x114\\x8b\\x85#\\xean\\xa9D\\xaf\\xac\\x1b\\xcb1\\x0c\\xe8\\x9d\\x86\\xc9\\xe0\\x94\\x97\\x8aC5(X\\x1b\\xda$s\\x91\\x83F\\xbad#\\xc5p\\x8c\\x9a\\xb1&\\x99)\\xbd\\t\\xb0a\\x85a\"5#9x\\xa4K>\\xde\\x10\\xe7g.f\\x84$L\\x01\\xa3am\\x1a\\xa9\\xa4\\xd2\\xfcZ\\xc5\\xf3\\x19\\xc9A$]2\\x92bHF\\xcdX\\x9c\\x94\\x94\\x8apH\\x05\\xd3\\xcaH\\x99\\xaa\\x8b\\x1cL\\xd2%\\')\\x06e\\xd4\\x8cu\\xc1iI\\x15\\x94\\'gFQ\\xf8x}\\xbf\\xa29\\xa8\\x0cb\\xb4F0,\\xa3f\\xdc\\xb3\\x88*\\xa5_#R0\\xc6\\x15O\\xa0\\x82\\xe6\\xe02\\x88\\x91\\x0b\\x0c\\xcc\\xa8\\x19\\xabSs\\xd854\\x10SAq\\x88\\x9b\\xf9\\x9b\\xd7E\\x0e3\\xe9\\x12\\x9a\\x14S3jF\\x17\\xc2\\x94L\\x83\\x0bk\\xe0\\x93\\xd9\\xab\\xe7\\xb9\\x8b\\x1cn\\xd2%8)&g\\xd4\\x04\\x17\\x9a\\xdb\\x92\\x13pa\\x94\\xd4\\x8c\\xa5\\xfa\\x18\\x96\\xc3\\xce F\\xbd\\x14fg\\xd4\\x8c.,+\\xb5\\x845\\xa2\\ra\\xd0Z%\\xf6q\\x96\\xc3\\xce F.0;\\xa3f\\xecg\\xa4*\\t4TVH\\xa2\\x0c\\x97\\xd7\\xcc\\xcd\\xbb\\xca\\xac\\xb6\\xf2\\x95\\xber\\xd1X\\xdev\\x96L\\x18RZ\\x98\\x16ka+\\x15\\\\\\'x\\xc1r\\xd8\\x19\\xc4(\\x17\\xb8\\xb9\\x8c\\x1a\\x9f\\x0b\\x0e\\xc0*%\\x83M\\x1dV\\xab\\xa4T\\'\\x08\\xcer\\xd8\\x19\\xc4\\xc8\\x05fg\\xd4\\x04\\x17\\x10\\xb7\\xa4TB]p*\\x84\\xe4\\xa9>?\\x87\\x9dl\\xc9N\\x86\\xd9\\x195\\xa1.\\x8c\\x86\\x9d\\xfd\\xa60\\x12\\xbd>\\xcbag\\x10\\xa3\\\\`vF\\xcd\\xb8F\\x92s\\x90CK\\xb6\\xec.\\x19\\xa6e\\xd4\\x849\\x90\\xf2\\xbav\\xe7\\xeb \\x87\\x8fl\\xc9\\xc7\\x9b=h\\xdc\\xbd\\xa3f\\x8cK\\x12{\\x14\\xcb!b\\x10\\xa3<c\"FM\\x88\\xcb\\x04\\x9cj\\xa0\\xe4\\x00\\xc9\\x86X\\x99\\xc02\\xcf\\x01b\\x10\\xcfMp\\x0c\\xc4\\xa8\\x19\\x97\\x9fL\\x1d(s\\x10\\xc8\\x97\\xed\\xe3\\xcd\\x12\\x1a\\x93\\x1e5!.\\xec\\x87\\x89\\x83l\\x0e\\xf4\\xf8\\x12z\\x1cC/jB\\\\8>$\\xe2f\\x9d\\xa0_9B/\\xce\\xd0\\xb7-\"\\xe7:\\xd1\\x82\\xf0\\x1c\\xb0\\x051\\x9a_\\x0c\\xb6\\xa8\\t\\xef\\xcbS\\x8d9\\xcfAY\\x10\\xa3\\xb8\\x18eQ\\xe3\\xe3\\xc2\\xf94\\x01r\\x9e\\x03\\xaf Fq1\\xbc\\xa2&\\xc4\\x15*\\x81n\\x9e\\x03\\xaf Fq1\\xbc\\xa2&\\xc4%4\\xb5~s\\xe0\\xc5\\x97\\xf0\\xba9L\\xfc\\\\G\\xb7gbnd\\xa2\\x85\\xe19\\xf0\\nb\\xf4\\xbe\\x18^Q\\x13\\xde\\xd7\\xf2\\x047D\\x0e\\xaf\\x82x\\x1eW`^EM\\x88kl\\xa2M\\x119\\xbc\\nb\\x14\\x17\\xb7lQ3\\xd6s\\xea\\x08!rx\\x15\\xc4(.\\xe6U\\xd4\\x84\\xb8\\xd4&\\xe6\\x17nn3\\xee\\xdb\\x96\\xbc\\x12\\x98Wa@\\xef\\xcd\\xc7\\x95Lb^\\x8dw\\xb8\\xe3m\\xeb\\xa5zt\\x7fT\\xddcs\\xeeWGw\\x087\\xb2\\xb0\\xbe\\xba\\xf1\\xd2\\x96\\x94\\xf0<\\xb4\\x17\\x7fO\\xab\\x013\\x0f\\xed0\\xb4\\xa7\\xe9\\xdb\\x13\\xdc\\xc8;\\xb8\\x7f\\xf5w\\xb8\\xabC\\xdb\\x0e\\xd3\\x17\\x7fO\\x1c\\xef\\xf8w\\xff\\x03\\x00\\x00\\xff\\xff\\x03\\x00PK\\x03\\x04\\x14\\x00\\x06\\x00\\x08\\x00\\x00\\x00!\\x00\\xcf\\x0f\\xc6=O\\x01\\x00\\x00c\\x02\\x00\\x00\\x11\\x00\\x08\\x01docProps/core.xml \\xa2\\x04\\x01(\\xa0\\x00\\x01\\x00\\x00\\x00\\x00\\x00\\x00\\x00\\x00\\x00\\x00\\x00\\x00\\x00\\x00\\x00\\x00\\x00\\x00\\x00\\x00\\x00\\x00\\x00\\x00\\x00\\x00\\x00\\x00\\x00\\x00\\x00\\x00\\x00\\x00\\x00\\x00\\x00\\x00\\x00\\x00\\x00\\x00\\x00\\x00\\x00\\x00\\x00\\x00\\x00\\x00\\x00\\x00\\x00\\x00\\x00\\x00\\x00\\x00\\x00\\x00\\x00\\x00\\x00\\x00\\x00\\x00\\x00\\x00\\x00\\x00\\x00\\x00\\x00\\x00\\x00\\x00\\x00\\x00\\x00\\x00\\x00\\x00\\x00\\x00\\x00\\x00\\x00\\x00\\x00\\x00\\x00\\x00\\x00\\x00\\x00\\x00\\x00\\x00\\x00\\x00\\x00\\x00\\x00\\x00\\x00\\x00\\x00\\x00\\x00\\x00\\x00\\x00\\x00\\x00\\x00\\x00\\x00\\x00\\x00\\x00\\x00\\x00\\x00\\x00\\x00\\x00\\x00\\x00\\x00\\x00\\x00\\x00\\x00\\x00\\x00\\x00\\x00\\x00\\x00\\x00\\x00\\x00\\x00\\x00\\x00\\x00\\x00\\x00\\x00\\x00\\x00\\x00\\x00\\x00\\x00\\x00\\x00\\x00\\x00\\x00\\x00\\x00\\x00\\x00\\x00\\x00\\x00\\x00\\x00\\x00\\x00\\x00\\x00\\x00\\x00\\x00\\x00\\x00\\x00\\x00\\x00\\x00\\x00\\x00\\x00\\x00\\x00\\x00\\x00\\x00\\x00\\x00\\x00\\x00\\x00\\x00\\x00\\x00\\x00\\x00\\x00\\x00\\x00\\x00\\x00\\x00\\x00\\x00\\x00\\x00\\x00\\x00\\x00\\x00\\x00\\x00\\x00\\x00\\x00\\x00\\x00\\x00\\x00\\x00\\x00\\x00\\x00\\x00\\x00\\x00\\x00\\x00\\x00\\x00\\x00\\x00\\x00\\x00\\x00\\x00\\x00\\x00\\x00\\x00\\x00\\x00\\x00\\x00\\x00\\x00\\x00\\x00\\x00\\x00\\x00\\x00\\x84\\x92QK\\xc30\\x14\\x85\\xdf\\x05\\xffC\\xc9{\\x9b\\xb4u\\xc3\\x85\\xb6\\x03\\x95=9\\x10\\xec\\x98\\xf8\\x16\\x92\\xbb\\xad\\xd8&!\\x89v\\xfb\\xf7\\xa6\\xedV;\\x14|L\\xce\\xb9_\\xce\\xb9$[\\x1e\\x9b:\\xf8\\x02c+%s\\x14G\\x04\\x05 \\xb9\\x12\\x95\\xdc\\xe7hS\\xae\\xc2{\\x14X\\xc7\\xa4`\\xb5\\x92\\x90\\xa3\\x13X\\xb4,no2\\xae)W\\x06^\\x8c\\xd2`\\\\\\x056\\xf0$i)\\xd79:8\\xa7)\\xc6\\x96\\x1f\\xa0a6\\xf2\\x0e\\xe9\\xc5\\x9d2\\rs\\xfeh\\xf6X3\\xfe\\xc1\\xf6\\x80\\x13B\\xe6\\xb8\\x01\\xc7\\x04s\\x0cw\\xc0P\\x8fDtF\\n>\"\\xf5\\xa7\\xa9{\\x80\\xe0\\x18jh@:\\x8b\\xe3(\\xc6?^\\x07\\xa6\\xb1\\x7f\\x0e\\xf4\\xca\\xc4\\xd9T\\xee\\xa4}\\xa7s\\xdc)[\\xf0A\\x1c\\xddG[\\x8d\\xc6\\xb6m\\xa36\\xedc\\xf8\\xfc1~[?\\xbf\\xf6U\\xc3Jv\\xbb\\xe2\\x80\\x8aLp\\xca\\r0\\xa7L\\xb1\\xad\\xa4P\\xad\\r6\\x16L\\x86\\'B\\xb7\\xc4\\x9aY\\xb7\\xf6\\xfb\\xdeU \\x1eN\\x85=0\\xc3\\\\\\x86\\x7f+\\x9e\\xd8\\x17\\x18\\xb0 \\x02\\x1f\\x89\\x0e\\x05.\\xca6}|*W\\xa8HH<\\x0f\\xc9\"L\\xd2\\x92\\xcchzO\\x13\\xf2\\xde=|5\\xdfE\\x1c.\\x9a\\xf3\\xf3\\xff\\x11c\\x12\\x92YI\\x12z7\\xa3d1!^\\x00E\\x9f\\xfb\\xfa[\\x14\\xdf\\x00\\x00\\x00\\xff\\xff\\x03\\x00PK\\x03\\x04\\x14\\x00\\x06\\x00\\x08\\x00\\x00\\x00!\\x00aI\\t\\x10\\x89\\x01\\x00\\x00\\x11\\x03\\x00\\x00\\x10\\x00\\x08\\x01docProps/app.xml \\xa2\\x04\\x01(\\xa0\\x00\\x01\\x00\\x00\\x00\\x00\\x00\\x00\\x00\\x00\\x00\\x00\\x00\\x00\\x00\\x00\\x00\\x00\\x00\\x00\\x00\\x00\\x00\\x00\\x00\\x00\\x00\\x00\\x00\\x00\\x00\\x00\\x00\\x00\\x00\\x00\\x00\\x00\\x00\\x00\\x00\\x00\\x00\\x00\\x00\\x00\\x00\\x00\\x00\\x00\\x00\\x00\\x00\\x00\\x00\\x00\\x00\\x00\\x00\\x00\\x00\\x00\\x00\\x00\\x00\\x00\\x00\\x00\\x00\\x00\\x00\\x00\\x00\\x00\\x00\\x00\\x00\\x00\\x00\\x00\\x00\\x00\\x00\\x00\\x00\\x00\\x00\\x00\\x00\\x00\\x00\\x00\\x00\\x00\\x00\\x00\\x00\\x00\\x00\\x00\\x00\\x00\\x00\\x00\\x00\\x00\\x00\\x00\\x00\\x00\\x00\\x00\\x00\\x00\\x00\\x00\\x00\\x00\\x00\\x00\\x00\\x00\\x00\\x00\\x00\\x00\\x00\\x00\\x00\\x00\\x00\\x00\\x00\\x00\\x00\\x00\\x00\\x00\\x00\\x00\\x00\\x00\\x00\\x00\\x00\\x00\\x00\\x00\\x00\\x00\\x00\\x00\\x00\\x00\\x00\\x00\\x00\\x00\\x00\\x00\\x00\\x00\\x00\\x00\\x00\\x00\\x00\\x00\\x00\\x00\\x00\\x00\\x00\\x00\\x00\\x00\\x00\\x00\\x00\\x00\\x00\\x00\\x00\\x00\\x00\\x00\\x00\\x00\\x00\\x00\\x00\\x00\\x00\\x00\\x00\\x00\\x00\\x00\\x00\\x00\\x00\\x00\\x00\\x00\\x00\\x00\\x00\\x00\\x00\\x00\\x00\\x00\\x00\\x00\\x00\\x00\\x00\\x00\\x00\\x00\\x00\\x00\\x00\\x00\\x00\\x00\\x00\\x00\\x00\\x00\\x00\\x00\\x00\\x00\\x00\\x00\\x00\\x00\\x00\\x00\\x00\\x00\\x00\\x00\\x00\\x00\\x00\\x00\\x00\\x00\\x00\\x00\\x00\\x00\\x00\\x00\\x00\\x00\\x9c\\x92Ao\\xdb0\\x0c\\x85\\xef\\x03\\xfa\\x1f\\x0c\\xdd\\x1b9\\xddP\\x0c\\x81\\xacbHW\\xf4\\xb0a\\x01\\x92\\xb6gM\\xa6c\\xa1\\xb2$\\x88\\xac\\x91\\xec\\xd7\\x8f\\xb6\\xd1\\xd4\\xd9z\\xea\\x8d\\xe4{x\\xfaDI\\xdd\\x1c:_\\xf4\\x90\\xd1\\xc5P\\x89\\xe5\\xa2\\x14\\x05\\x04\\x1bk\\x17\\xf6\\x95x\\xd8\\xdd]~\\x15\\x05\\x92\\t\\xb5\\xf11@%\\x8e\\x80\\xe2F_|R\\x9b\\x1c\\x13dr\\x80\\x05G\\x04\\xacDK\\x94VR\\xa2m\\xa13\\xb8`9\\xb0\\xd2\\xc4\\xdc\\x19\\xe26\\xefel\\x1ag\\xe16\\xda\\x97\\x0e\\x02\\xc9\\xab\\xb2\\xbc\\x96p \\x085\\xd4\\x97\\xe9\\x14(\\xa6\\xc4UO\\x1f\\r\\xad\\xa3\\x1d\\xf8\\xf0qwL\\x0c\\xac\\xd5\\xb7\\x94\\xbc\\xb3\\x86\\xf8\\x96\\xfa\\xa7\\xb39bl\\xa8\\xf8~\\xb0\\xe0\\x95\\x9c\\x8b\\x8a\\xe9\\xb6`_\\xb2\\xa3\\xa3.\\x95\\x9c\\xb7jk\\x8d\\x875\\x07\\xeb\\xc6x\\x04%\\xdf\\x06\\xea\\x1e\\xcc\\xb0\\xb4\\x8dq\\x19\\xb5\\xeai\\xd5\\x83\\xa5\\x98\\x0bt\\x7fxmW\\xa2\\xf8m\\x10\\x06\\x9cJ\\xf4&;\\x13\\x88\\xb1\\x06\\xdb\\xd4\\x8c\\xb5OHY?\\xc5\\xfc\\x8c-\\x00\\xa1\\x92l\\x98\\x86c9\\xf7\\xcek\\xf7E/G\\x03\\x17\\xe7\\xc6!`\\x02a\\xe1\\x1cq\\xe7\\xc8\\x03\\xfej6&\\xd3;\\xc4\\xcb9\\xf1\\xc80\\xf1N8\\xdb\\x81o:s\\xce7^\\x99O\\xfa\\'{\\x1d\\xbbd\\xc2\\x91\\x85S\\xf5\\xc3\\x85g|H\\xbbxk\\x08^\\xd7y>T\\xdb\\xd6d\\xa8\\xf9\\x05N\\xeb>\\r\\xd4=o2\\xfb!d\\xdd\\x9a\\xb0\\x87\\xfa\\xd5\\xf3\\xbf0<\\xfe\\xe3\\xf4\\xc3\\xf5\\xf2zQ~.\\xf9]g3%\\xdf\\xfe\\xb2\\xfe\\x0b\\x00\\x00\\xff\\xff\\x03\\x00PK\\x01\\x02-\\x00\\x14\\x00\\x06\\x00\\x08\\x00\\x00\\x00!\\x00b\\xee\\x9dh^\\x01\\x00\\x00\\x90\\x04\\x00\\x00\\x13\\x00\\x00\\x00\\x00\\x00\\x00\\x00\\x00\\x00\\x00\\x00\\x00\\x00\\x00\\x00\\x00\\x00[Content_Types].xmlPK\\x01\\x02-\\x00\\x14\\x00\\x06\\x00\\x08\\x00\\x00\\x00!\\x00\\xb5U0#\\xf4\\x00\\x00\\x00L\\x02\\x00\\x00\\x0b\\x00\\x00\\x00\\x00\\x00\\x00\\x00\\x00\\x00\\x00\\x00\\x00\\x00\\x97\\x03\\x00\\x00_rels/.relsPK\\x01\\x02-\\x00\\x14\\x00\\x06\\x00\\x08\\x00\\x00\\x00!\\x00\\x81>\\x94\\x97\\xf3\\x00\\x00\\x00\\xba\\x02\\x00\\x00\\x1a\\x00\\x00\\x00\\x00\\x00\\x00\\x00\\x00\\x00\\x00\\x00\\x00\\x00\\xbc\\x06\\x00\\x00xl/_rels/workbook.xml.relsPK\\x01\\x02-\\x00\\x14\\x00\\x06\\x00\\x08\\x00\\x00\\x00!\\x00\\xf67s\\xe0H\\x02\\x00\\x00\\xaf\\x04\\x00\\x00\\x0f\\x00\\x00\\x00\\x00\\x00\\x00\\x00\\x00\\x00\\x00\\x00\\x00\\x00\\xef\\x08\\x00\\x00xl/workbook.xmlPK\\x01\\x02-\\x00\\x14\\x00\\x06\\x00\\x08\\x00\\x00\\x00!\\x00\\xc1uC\\xc3\\x1f\\x01\\x00\\x00@\\x04\\x00\\x00\\x14\\x00\\x00\\x00\\x00\\x00\\x00\\x00\\x00\\x00\\x00\\x00\\x00\\x00d\\x0b\\x00\\x00xl/sharedStrings.xmlPK\\x01\\x02-\\x00\\x14\\x00\\x06\\x00\\x08\\x00\\x00\\x00!\\x00\\xbe\\\\RMN\\x07\\x00\\x00\\xc8 \\x00\\x00\\x13\\x00\\x00\\x00\\x00\\x00\\x00\\x00\\x00\\x00\\x00\\x00\\x00\\x00\\xb5\\x0c\\x00\\x00xl/theme/theme1.xmlPK\\x01\\x02-\\x00\\x14\\x00\\x06\\x00\\x08\\x00\\x00\\x00!\\x00\\xc6cz\\x0f\\xc5\\x02\\x00\\x00\\x16\\x07\\x00\\x00\\r\\x00\\x00\\x00\\x00\\x00\\x00\\x00\\x00\\x00\\x00\\x00\\x00\\x004\\x14\\x00\\x00xl/styles.xmlPK\\x01\\x02-\\x00\\x14\\x00\\x06\\x00\\x08\\x00\\x00\\x00!\\x00\\x11\\xa1\\xaeN\\x99\\x05\\x00\\x00(\\x18\\x00\\x00\\x18\\x00\\x00\\x00\\x00\\x00\\x00\\x00\\x00\\x00\\x00\\x00\\x00\\x00$\\x17\\x00\\x00xl/worksheets/sheet1.xmlPK\\x01\\x02-\\x00\\x14\\x00\\x06\\x00\\x08\\x00\\x00\\x00!\\x00\\xcf\\x0f\\xc6=O\\x01\\x00\\x00c\\x02\\x00\\x00\\x11\\x00\\x00\\x00\\x00\\x00\\x00\\x00\\x00\\x00\\x00\\x00\\x00\\x00\\xf3\\x1c\\x00\\x00docProps/core.xmlPK\\x01\\x02-\\x00\\x14\\x00\\x06\\x00\\x08\\x00\\x00\\x00!\\x00aI\\t\\x10\\x89\\x01\\x00\\x00\\x11\\x03\\x00\\x00\\x10\\x00\\x00\\x00\\x00\\x00\\x00\\x00\\x00\\x00\\x00\\x00\\x00\\x00y\\x1f\\x00\\x00docProps/app.xmlPK\\x05\\x06\\x00\\x00\\x00\\x00\\n\\x00\\n\\x00\\x80\\x02\\x00\\x008\"\\x00\\x00\\x00\\x00'}"
            ]
          },
          "metadata": {},
          "execution_count": 2
        }
      ]
    },
    {
      "cell_type": "code",
      "source": [
        "import pandas as pd\n",
        "import numpy as np\n",
        "import matplotlib.pyplot as plt\n",
        "import seaborn as sns\n",
        "from sklearn.model_selection import train_test_split\n",
        "import statsmodels.formula.api as smf"
      ],
      "metadata": {
        "id": "d-r91fT5jbpg"
      },
      "execution_count": 170,
      "outputs": []
    },
    {
      "cell_type": "code",
      "source": [
        "data=pd.read_excel('CocaCola_Sales_Rawdata.xlsx')"
      ],
      "metadata": {
        "id": "YW8O7d9ujqQ9"
      },
      "execution_count": 171,
      "outputs": []
    },
    {
      "cell_type": "code",
      "source": [
        "data.sample(5)"
      ],
      "metadata": {
        "colab": {
          "base_uri": "https://localhost:8080/",
          "height": 206
        },
        "id": "UUPnd3QOjtjK",
        "outputId": "ce05e7ed-73e9-4bb5-810f-b3083ac6da65"
      },
      "execution_count": 172,
      "outputs": [
        {
          "output_type": "execute_result",
          "data": {
            "text/plain": [
              "   Quarter        Sales\n",
              "27   Q4_92  3243.859993\n",
              "23   Q4_91  2879.000999\n",
              "9    Q2_88  2313.631996\n",
              "22   Q3_91  3172.115997\n",
              "38   Q3_95  4895.000000"
            ],
            "text/html": [
              "\n",
              "\n",
              "  <div id=\"df-361a07ff-eb4a-4f5a-bde5-fad818a96816\">\n",
              "    <div class=\"colab-df-container\">\n",
              "      <div>\n",
              "<style scoped>\n",
              "    .dataframe tbody tr th:only-of-type {\n",
              "        vertical-align: middle;\n",
              "    }\n",
              "\n",
              "    .dataframe tbody tr th {\n",
              "        vertical-align: top;\n",
              "    }\n",
              "\n",
              "    .dataframe thead th {\n",
              "        text-align: right;\n",
              "    }\n",
              "</style>\n",
              "<table border=\"1\" class=\"dataframe\">\n",
              "  <thead>\n",
              "    <tr style=\"text-align: right;\">\n",
              "      <th></th>\n",
              "      <th>Quarter</th>\n",
              "      <th>Sales</th>\n",
              "    </tr>\n",
              "  </thead>\n",
              "  <tbody>\n",
              "    <tr>\n",
              "      <th>27</th>\n",
              "      <td>Q4_92</td>\n",
              "      <td>3243.859993</td>\n",
              "    </tr>\n",
              "    <tr>\n",
              "      <th>23</th>\n",
              "      <td>Q4_91</td>\n",
              "      <td>2879.000999</td>\n",
              "    </tr>\n",
              "    <tr>\n",
              "      <th>9</th>\n",
              "      <td>Q2_88</td>\n",
              "      <td>2313.631996</td>\n",
              "    </tr>\n",
              "    <tr>\n",
              "      <th>22</th>\n",
              "      <td>Q3_91</td>\n",
              "      <td>3172.115997</td>\n",
              "    </tr>\n",
              "    <tr>\n",
              "      <th>38</th>\n",
              "      <td>Q3_95</td>\n",
              "      <td>4895.000000</td>\n",
              "    </tr>\n",
              "  </tbody>\n",
              "</table>\n",
              "</div>\n",
              "      <button class=\"colab-df-convert\" onclick=\"convertToInteractive('df-361a07ff-eb4a-4f5a-bde5-fad818a96816')\"\n",
              "              title=\"Convert this dataframe to an interactive table.\"\n",
              "              style=\"display:none;\">\n",
              "\n",
              "  <svg xmlns=\"http://www.w3.org/2000/svg\" height=\"24px\"viewBox=\"0 0 24 24\"\n",
              "       width=\"24px\">\n",
              "    <path d=\"M0 0h24v24H0V0z\" fill=\"none\"/>\n",
              "    <path d=\"M18.56 5.44l.94 2.06.94-2.06 2.06-.94-2.06-.94-.94-2.06-.94 2.06-2.06.94zm-11 1L8.5 8.5l.94-2.06 2.06-.94-2.06-.94L8.5 2.5l-.94 2.06-2.06.94zm10 10l.94 2.06.94-2.06 2.06-.94-2.06-.94-.94-2.06-.94 2.06-2.06.94z\"/><path d=\"M17.41 7.96l-1.37-1.37c-.4-.4-.92-.59-1.43-.59-.52 0-1.04.2-1.43.59L10.3 9.45l-7.72 7.72c-.78.78-.78 2.05 0 2.83L4 21.41c.39.39.9.59 1.41.59.51 0 1.02-.2 1.41-.59l7.78-7.78 2.81-2.81c.8-.78.8-2.07 0-2.86zM5.41 20L4 18.59l7.72-7.72 1.47 1.35L5.41 20z\"/>\n",
              "  </svg>\n",
              "      </button>\n",
              "\n",
              "\n",
              "\n",
              "    <div id=\"df-14e1c1ca-1aeb-4c99-aca3-dbef4a7df009\">\n",
              "      <button class=\"colab-df-quickchart\" onclick=\"quickchart('df-14e1c1ca-1aeb-4c99-aca3-dbef4a7df009')\"\n",
              "              title=\"Suggest charts.\"\n",
              "              style=\"display:none;\">\n",
              "\n",
              "<svg xmlns=\"http://www.w3.org/2000/svg\" height=\"24px\"viewBox=\"0 0 24 24\"\n",
              "     width=\"24px\">\n",
              "    <g>\n",
              "        <path d=\"M19 3H5c-1.1 0-2 .9-2 2v14c0 1.1.9 2 2 2h14c1.1 0 2-.9 2-2V5c0-1.1-.9-2-2-2zM9 17H7v-7h2v7zm4 0h-2V7h2v10zm4 0h-2v-4h2v4z\"/>\n",
              "    </g>\n",
              "</svg>\n",
              "      </button>\n",
              "    </div>\n",
              "\n",
              "<style>\n",
              "  .colab-df-quickchart {\n",
              "    background-color: #E8F0FE;\n",
              "    border: none;\n",
              "    border-radius: 50%;\n",
              "    cursor: pointer;\n",
              "    display: none;\n",
              "    fill: #1967D2;\n",
              "    height: 32px;\n",
              "    padding: 0 0 0 0;\n",
              "    width: 32px;\n",
              "  }\n",
              "\n",
              "  .colab-df-quickchart:hover {\n",
              "    background-color: #E2EBFA;\n",
              "    box-shadow: 0px 1px 2px rgba(60, 64, 67, 0.3), 0px 1px 3px 1px rgba(60, 64, 67, 0.15);\n",
              "    fill: #174EA6;\n",
              "  }\n",
              "\n",
              "  [theme=dark] .colab-df-quickchart {\n",
              "    background-color: #3B4455;\n",
              "    fill: #D2E3FC;\n",
              "  }\n",
              "\n",
              "  [theme=dark] .colab-df-quickchart:hover {\n",
              "    background-color: #434B5C;\n",
              "    box-shadow: 0px 1px 3px 1px rgba(0, 0, 0, 0.15);\n",
              "    filter: drop-shadow(0px 1px 2px rgba(0, 0, 0, 0.3));\n",
              "    fill: #FFFFFF;\n",
              "  }\n",
              "</style>\n",
              "\n",
              "    <script>\n",
              "      async function quickchart(key) {\n",
              "        const containerElement = document.querySelector('#' + key);\n",
              "        const charts = await google.colab.kernel.invokeFunction(\n",
              "            'suggestCharts', [key], {});\n",
              "      }\n",
              "    </script>\n",
              "\n",
              "      <script>\n",
              "\n",
              "function displayQuickchartButton(domScope) {\n",
              "  let quickchartButtonEl =\n",
              "    domScope.querySelector('#df-14e1c1ca-1aeb-4c99-aca3-dbef4a7df009 button.colab-df-quickchart');\n",
              "  quickchartButtonEl.style.display =\n",
              "    google.colab.kernel.accessAllowed ? 'block' : 'none';\n",
              "}\n",
              "\n",
              "        displayQuickchartButton(document);\n",
              "      </script>\n",
              "      <style>\n",
              "    .colab-df-container {\n",
              "      display:flex;\n",
              "      flex-wrap:wrap;\n",
              "      gap: 12px;\n",
              "    }\n",
              "\n",
              "    .colab-df-convert {\n",
              "      background-color: #E8F0FE;\n",
              "      border: none;\n",
              "      border-radius: 50%;\n",
              "      cursor: pointer;\n",
              "      display: none;\n",
              "      fill: #1967D2;\n",
              "      height: 32px;\n",
              "      padding: 0 0 0 0;\n",
              "      width: 32px;\n",
              "    }\n",
              "\n",
              "    .colab-df-convert:hover {\n",
              "      background-color: #E2EBFA;\n",
              "      box-shadow: 0px 1px 2px rgba(60, 64, 67, 0.3), 0px 1px 3px 1px rgba(60, 64, 67, 0.15);\n",
              "      fill: #174EA6;\n",
              "    }\n",
              "\n",
              "    [theme=dark] .colab-df-convert {\n",
              "      background-color: #3B4455;\n",
              "      fill: #D2E3FC;\n",
              "    }\n",
              "\n",
              "    [theme=dark] .colab-df-convert:hover {\n",
              "      background-color: #434B5C;\n",
              "      box-shadow: 0px 1px 3px 1px rgba(0, 0, 0, 0.15);\n",
              "      filter: drop-shadow(0px 1px 2px rgba(0, 0, 0, 0.3));\n",
              "      fill: #FFFFFF;\n",
              "    }\n",
              "  </style>\n",
              "\n",
              "      <script>\n",
              "        const buttonEl =\n",
              "          document.querySelector('#df-361a07ff-eb4a-4f5a-bde5-fad818a96816 button.colab-df-convert');\n",
              "        buttonEl.style.display =\n",
              "          google.colab.kernel.accessAllowed ? 'block' : 'none';\n",
              "\n",
              "        async function convertToInteractive(key) {\n",
              "          const element = document.querySelector('#df-361a07ff-eb4a-4f5a-bde5-fad818a96816');\n",
              "          const dataTable =\n",
              "            await google.colab.kernel.invokeFunction('convertToInteractive',\n",
              "                                                     [key], {});\n",
              "          if (!dataTable) return;\n",
              "\n",
              "          const docLinkHtml = 'Like what you see? Visit the ' +\n",
              "            '<a target=\"_blank\" href=https://colab.research.google.com/notebooks/data_table.ipynb>data table notebook</a>'\n",
              "            + ' to learn more about interactive tables.';\n",
              "          element.innerHTML = '';\n",
              "          dataTable['output_type'] = 'display_data';\n",
              "          await google.colab.output.renderOutput(dataTable, element);\n",
              "          const docLink = document.createElement('div');\n",
              "          docLink.innerHTML = docLinkHtml;\n",
              "          element.appendChild(docLink);\n",
              "        }\n",
              "      </script>\n",
              "    </div>\n",
              "  </div>\n"
            ]
          },
          "metadata": {},
          "execution_count": 172
        }
      ]
    },
    {
      "cell_type": "code",
      "source": [
        "data.isna().sum().sum()"
      ],
      "metadata": {
        "colab": {
          "base_uri": "https://localhost:8080/"
        },
        "id": "Jd52OUQu6k5V",
        "outputId": "365fece0-9b87-476e-e497-7b01db54a71d"
      },
      "execution_count": 173,
      "outputs": [
        {
          "output_type": "execute_result",
          "data": {
            "text/plain": [
              "0"
            ]
          },
          "metadata": {},
          "execution_count": 173
        }
      ]
    },
    {
      "cell_type": "code",
      "source": [
        "data['Quarter'][0]"
      ],
      "metadata": {
        "colab": {
          "base_uri": "https://localhost:8080/",
          "height": 35
        },
        "id": "6SSa4FyRkTev",
        "outputId": "0cc40937-c5f7-41d2-9edd-a5156269ef0b"
      },
      "execution_count": 174,
      "outputs": [
        {
          "output_type": "execute_result",
          "data": {
            "text/plain": [
              "'Q1_86'"
            ],
            "application/vnd.google.colaboratory.intrinsic+json": {
              "type": "string"
            }
          },
          "metadata": {},
          "execution_count": 174
        }
      ]
    },
    {
      "cell_type": "code",
      "source": [
        "quarter=['Q1','Q2','Q3','Q4']\n",
        "data['quarter']=0\n",
        "for i in range(0,data.shape[0]):\n",
        "  n=data['Quarter'][i]\n",
        "  data['quarter'][i]=n[0:2]"
      ],
      "metadata": {
        "colab": {
          "base_uri": "https://localhost:8080/"
        },
        "id": "Bv-eX6uDjwz8",
        "outputId": "60a5744d-eeca-40c0-cd3f-dc6b652948f0"
      },
      "execution_count": 175,
      "outputs": [
        {
          "output_type": "stream",
          "name": "stderr",
          "text": [
            "<ipython-input-175-5492f56727de>:5: SettingWithCopyWarning: \n",
            "A value is trying to be set on a copy of a slice from a DataFrame\n",
            "\n",
            "See the caveats in the documentation: https://pandas.pydata.org/pandas-docs/stable/user_guide/indexing.html#returning-a-view-versus-a-copy\n",
            "  data['quarter'][i]=n[0:2]\n"
          ]
        }
      ]
    },
    {
      "cell_type": "code",
      "source": [
        "n=data['Quarter'][1]\n",
        "n"
      ],
      "metadata": {
        "colab": {
          "base_uri": "https://localhost:8080/",
          "height": 35
        },
        "id": "Dk3HZI8Vr1Tb",
        "outputId": "4b6885de-5676-41e2-84a1-1c147f319e86"
      },
      "execution_count": 176,
      "outputs": [
        {
          "output_type": "execute_result",
          "data": {
            "text/plain": [
              "'Q2_86'"
            ],
            "application/vnd.google.colaboratory.intrinsic+json": {
              "type": "string"
            }
          },
          "metadata": {},
          "execution_count": 176
        }
      ]
    },
    {
      "cell_type": "code",
      "source": [
        "data.sample(5)"
      ],
      "metadata": {
        "colab": {
          "base_uri": "https://localhost:8080/",
          "height": 206
        },
        "id": "g1xKOGijkobo",
        "outputId": "4cc6d961-a9dc-4052-cac0-ce92b0e5a76b"
      },
      "execution_count": 177,
      "outputs": [
        {
          "output_type": "execute_result",
          "data": {
            "text/plain": [
              "   Quarter        Sales quarter\n",
              "20   Q1_91  2480.973999      Q1\n",
              "8    Q1_88  1869.049999      Q1\n",
              "39   Q4_95  4333.000000      Q4\n",
              "22   Q3_91  3172.115997      Q3\n",
              "9    Q2_88  2313.631996      Q2"
            ],
            "text/html": [
              "\n",
              "\n",
              "  <div id=\"df-edccc782-e8f8-4014-afe8-920ade795567\">\n",
              "    <div class=\"colab-df-container\">\n",
              "      <div>\n",
              "<style scoped>\n",
              "    .dataframe tbody tr th:only-of-type {\n",
              "        vertical-align: middle;\n",
              "    }\n",
              "\n",
              "    .dataframe tbody tr th {\n",
              "        vertical-align: top;\n",
              "    }\n",
              "\n",
              "    .dataframe thead th {\n",
              "        text-align: right;\n",
              "    }\n",
              "</style>\n",
              "<table border=\"1\" class=\"dataframe\">\n",
              "  <thead>\n",
              "    <tr style=\"text-align: right;\">\n",
              "      <th></th>\n",
              "      <th>Quarter</th>\n",
              "      <th>Sales</th>\n",
              "      <th>quarter</th>\n",
              "    </tr>\n",
              "  </thead>\n",
              "  <tbody>\n",
              "    <tr>\n",
              "      <th>20</th>\n",
              "      <td>Q1_91</td>\n",
              "      <td>2480.973999</td>\n",
              "      <td>Q1</td>\n",
              "    </tr>\n",
              "    <tr>\n",
              "      <th>8</th>\n",
              "      <td>Q1_88</td>\n",
              "      <td>1869.049999</td>\n",
              "      <td>Q1</td>\n",
              "    </tr>\n",
              "    <tr>\n",
              "      <th>39</th>\n",
              "      <td>Q4_95</td>\n",
              "      <td>4333.000000</td>\n",
              "      <td>Q4</td>\n",
              "    </tr>\n",
              "    <tr>\n",
              "      <th>22</th>\n",
              "      <td>Q3_91</td>\n",
              "      <td>3172.115997</td>\n",
              "      <td>Q3</td>\n",
              "    </tr>\n",
              "    <tr>\n",
              "      <th>9</th>\n",
              "      <td>Q2_88</td>\n",
              "      <td>2313.631996</td>\n",
              "      <td>Q2</td>\n",
              "    </tr>\n",
              "  </tbody>\n",
              "</table>\n",
              "</div>\n",
              "      <button class=\"colab-df-convert\" onclick=\"convertToInteractive('df-edccc782-e8f8-4014-afe8-920ade795567')\"\n",
              "              title=\"Convert this dataframe to an interactive table.\"\n",
              "              style=\"display:none;\">\n",
              "\n",
              "  <svg xmlns=\"http://www.w3.org/2000/svg\" height=\"24px\"viewBox=\"0 0 24 24\"\n",
              "       width=\"24px\">\n",
              "    <path d=\"M0 0h24v24H0V0z\" fill=\"none\"/>\n",
              "    <path d=\"M18.56 5.44l.94 2.06.94-2.06 2.06-.94-2.06-.94-.94-2.06-.94 2.06-2.06.94zm-11 1L8.5 8.5l.94-2.06 2.06-.94-2.06-.94L8.5 2.5l-.94 2.06-2.06.94zm10 10l.94 2.06.94-2.06 2.06-.94-2.06-.94-.94-2.06-.94 2.06-2.06.94z\"/><path d=\"M17.41 7.96l-1.37-1.37c-.4-.4-.92-.59-1.43-.59-.52 0-1.04.2-1.43.59L10.3 9.45l-7.72 7.72c-.78.78-.78 2.05 0 2.83L4 21.41c.39.39.9.59 1.41.59.51 0 1.02-.2 1.41-.59l7.78-7.78 2.81-2.81c.8-.78.8-2.07 0-2.86zM5.41 20L4 18.59l7.72-7.72 1.47 1.35L5.41 20z\"/>\n",
              "  </svg>\n",
              "      </button>\n",
              "\n",
              "\n",
              "\n",
              "    <div id=\"df-eb34e2c6-e524-436a-8600-ec6edf07bd2d\">\n",
              "      <button class=\"colab-df-quickchart\" onclick=\"quickchart('df-eb34e2c6-e524-436a-8600-ec6edf07bd2d')\"\n",
              "              title=\"Suggest charts.\"\n",
              "              style=\"display:none;\">\n",
              "\n",
              "<svg xmlns=\"http://www.w3.org/2000/svg\" height=\"24px\"viewBox=\"0 0 24 24\"\n",
              "     width=\"24px\">\n",
              "    <g>\n",
              "        <path d=\"M19 3H5c-1.1 0-2 .9-2 2v14c0 1.1.9 2 2 2h14c1.1 0 2-.9 2-2V5c0-1.1-.9-2-2-2zM9 17H7v-7h2v7zm4 0h-2V7h2v10zm4 0h-2v-4h2v4z\"/>\n",
              "    </g>\n",
              "</svg>\n",
              "      </button>\n",
              "    </div>\n",
              "\n",
              "<style>\n",
              "  .colab-df-quickchart {\n",
              "    background-color: #E8F0FE;\n",
              "    border: none;\n",
              "    border-radius: 50%;\n",
              "    cursor: pointer;\n",
              "    display: none;\n",
              "    fill: #1967D2;\n",
              "    height: 32px;\n",
              "    padding: 0 0 0 0;\n",
              "    width: 32px;\n",
              "  }\n",
              "\n",
              "  .colab-df-quickchart:hover {\n",
              "    background-color: #E2EBFA;\n",
              "    box-shadow: 0px 1px 2px rgba(60, 64, 67, 0.3), 0px 1px 3px 1px rgba(60, 64, 67, 0.15);\n",
              "    fill: #174EA6;\n",
              "  }\n",
              "\n",
              "  [theme=dark] .colab-df-quickchart {\n",
              "    background-color: #3B4455;\n",
              "    fill: #D2E3FC;\n",
              "  }\n",
              "\n",
              "  [theme=dark] .colab-df-quickchart:hover {\n",
              "    background-color: #434B5C;\n",
              "    box-shadow: 0px 1px 3px 1px rgba(0, 0, 0, 0.15);\n",
              "    filter: drop-shadow(0px 1px 2px rgba(0, 0, 0, 0.3));\n",
              "    fill: #FFFFFF;\n",
              "  }\n",
              "</style>\n",
              "\n",
              "    <script>\n",
              "      async function quickchart(key) {\n",
              "        const containerElement = document.querySelector('#' + key);\n",
              "        const charts = await google.colab.kernel.invokeFunction(\n",
              "            'suggestCharts', [key], {});\n",
              "      }\n",
              "    </script>\n",
              "\n",
              "      <script>\n",
              "\n",
              "function displayQuickchartButton(domScope) {\n",
              "  let quickchartButtonEl =\n",
              "    domScope.querySelector('#df-eb34e2c6-e524-436a-8600-ec6edf07bd2d button.colab-df-quickchart');\n",
              "  quickchartButtonEl.style.display =\n",
              "    google.colab.kernel.accessAllowed ? 'block' : 'none';\n",
              "}\n",
              "\n",
              "        displayQuickchartButton(document);\n",
              "      </script>\n",
              "      <style>\n",
              "    .colab-df-container {\n",
              "      display:flex;\n",
              "      flex-wrap:wrap;\n",
              "      gap: 12px;\n",
              "    }\n",
              "\n",
              "    .colab-df-convert {\n",
              "      background-color: #E8F0FE;\n",
              "      border: none;\n",
              "      border-radius: 50%;\n",
              "      cursor: pointer;\n",
              "      display: none;\n",
              "      fill: #1967D2;\n",
              "      height: 32px;\n",
              "      padding: 0 0 0 0;\n",
              "      width: 32px;\n",
              "    }\n",
              "\n",
              "    .colab-df-convert:hover {\n",
              "      background-color: #E2EBFA;\n",
              "      box-shadow: 0px 1px 2px rgba(60, 64, 67, 0.3), 0px 1px 3px 1px rgba(60, 64, 67, 0.15);\n",
              "      fill: #174EA6;\n",
              "    }\n",
              "\n",
              "    [theme=dark] .colab-df-convert {\n",
              "      background-color: #3B4455;\n",
              "      fill: #D2E3FC;\n",
              "    }\n",
              "\n",
              "    [theme=dark] .colab-df-convert:hover {\n",
              "      background-color: #434B5C;\n",
              "      box-shadow: 0px 1px 3px 1px rgba(0, 0, 0, 0.15);\n",
              "      filter: drop-shadow(0px 1px 2px rgba(0, 0, 0, 0.3));\n",
              "      fill: #FFFFFF;\n",
              "    }\n",
              "  </style>\n",
              "\n",
              "      <script>\n",
              "        const buttonEl =\n",
              "          document.querySelector('#df-edccc782-e8f8-4014-afe8-920ade795567 button.colab-df-convert');\n",
              "        buttonEl.style.display =\n",
              "          google.colab.kernel.accessAllowed ? 'block' : 'none';\n",
              "\n",
              "        async function convertToInteractive(key) {\n",
              "          const element = document.querySelector('#df-edccc782-e8f8-4014-afe8-920ade795567');\n",
              "          const dataTable =\n",
              "            await google.colab.kernel.invokeFunction('convertToInteractive',\n",
              "                                                     [key], {});\n",
              "          if (!dataTable) return;\n",
              "\n",
              "          const docLinkHtml = 'Like what you see? Visit the ' +\n",
              "            '<a target=\"_blank\" href=https://colab.research.google.com/notebooks/data_table.ipynb>data table notebook</a>'\n",
              "            + ' to learn more about interactive tables.';\n",
              "          element.innerHTML = '';\n",
              "          dataTable['output_type'] = 'display_data';\n",
              "          await google.colab.output.renderOutput(dataTable, element);\n",
              "          const docLink = document.createElement('div');\n",
              "          docLink.innerHTML = docLinkHtml;\n",
              "          element.appendChild(docLink);\n",
              "        }\n",
              "      </script>\n",
              "    </div>\n",
              "  </div>\n"
            ]
          },
          "metadata": {},
          "execution_count": 177
        }
      ]
    },
    {
      "cell_type": "code",
      "source": [
        "dummy=pd.DataFrame(pd.get_dummies(data['quarter']))"
      ],
      "metadata": {
        "id": "KqOWO-u7kxOk"
      },
      "execution_count": 178,
      "outputs": []
    },
    {
      "cell_type": "code",
      "source": [
        "new_data=pd.concat((data,dummy),axis=1)"
      ],
      "metadata": {
        "id": "hLu5PmFnlAh8"
      },
      "execution_count": 179,
      "outputs": []
    },
    {
      "cell_type": "code",
      "source": [
        "new_data.sample(5)"
      ],
      "metadata": {
        "colab": {
          "base_uri": "https://localhost:8080/",
          "height": 206
        },
        "id": "GiD0vbVUlMP6",
        "outputId": "9312b577-c9d8-4991-9df3-f898dac57d9f"
      },
      "execution_count": 180,
      "outputs": [
        {
          "output_type": "execute_result",
          "data": {
            "text/plain": [
              "   Quarter        Sales quarter  Q1  Q2  Q3  Q4\n",
              "39   Q4_95  4333.000000      Q4   0   0   0   1\n",
              "0    Q1_86  1734.827000      Q1   1   0   0   0\n",
              "33   Q2_94  4342.000000      Q2   0   1   0   0\n",
              "15   Q4_89  2173.967995      Q4   0   0   0   1\n",
              "2    Q3_86  2533.804993      Q3   0   0   1   0"
            ],
            "text/html": [
              "\n",
              "\n",
              "  <div id=\"df-e0881b91-c33e-46e2-aab2-08df20a1310e\">\n",
              "    <div class=\"colab-df-container\">\n",
              "      <div>\n",
              "<style scoped>\n",
              "    .dataframe tbody tr th:only-of-type {\n",
              "        vertical-align: middle;\n",
              "    }\n",
              "\n",
              "    .dataframe tbody tr th {\n",
              "        vertical-align: top;\n",
              "    }\n",
              "\n",
              "    .dataframe thead th {\n",
              "        text-align: right;\n",
              "    }\n",
              "</style>\n",
              "<table border=\"1\" class=\"dataframe\">\n",
              "  <thead>\n",
              "    <tr style=\"text-align: right;\">\n",
              "      <th></th>\n",
              "      <th>Quarter</th>\n",
              "      <th>Sales</th>\n",
              "      <th>quarter</th>\n",
              "      <th>Q1</th>\n",
              "      <th>Q2</th>\n",
              "      <th>Q3</th>\n",
              "      <th>Q4</th>\n",
              "    </tr>\n",
              "  </thead>\n",
              "  <tbody>\n",
              "    <tr>\n",
              "      <th>39</th>\n",
              "      <td>Q4_95</td>\n",
              "      <td>4333.000000</td>\n",
              "      <td>Q4</td>\n",
              "      <td>0</td>\n",
              "      <td>0</td>\n",
              "      <td>0</td>\n",
              "      <td>1</td>\n",
              "    </tr>\n",
              "    <tr>\n",
              "      <th>0</th>\n",
              "      <td>Q1_86</td>\n",
              "      <td>1734.827000</td>\n",
              "      <td>Q1</td>\n",
              "      <td>1</td>\n",
              "      <td>0</td>\n",
              "      <td>0</td>\n",
              "      <td>0</td>\n",
              "    </tr>\n",
              "    <tr>\n",
              "      <th>33</th>\n",
              "      <td>Q2_94</td>\n",
              "      <td>4342.000000</td>\n",
              "      <td>Q2</td>\n",
              "      <td>0</td>\n",
              "      <td>1</td>\n",
              "      <td>0</td>\n",
              "      <td>0</td>\n",
              "    </tr>\n",
              "    <tr>\n",
              "      <th>15</th>\n",
              "      <td>Q4_89</td>\n",
              "      <td>2173.967995</td>\n",
              "      <td>Q4</td>\n",
              "      <td>0</td>\n",
              "      <td>0</td>\n",
              "      <td>0</td>\n",
              "      <td>1</td>\n",
              "    </tr>\n",
              "    <tr>\n",
              "      <th>2</th>\n",
              "      <td>Q3_86</td>\n",
              "      <td>2533.804993</td>\n",
              "      <td>Q3</td>\n",
              "      <td>0</td>\n",
              "      <td>0</td>\n",
              "      <td>1</td>\n",
              "      <td>0</td>\n",
              "    </tr>\n",
              "  </tbody>\n",
              "</table>\n",
              "</div>\n",
              "      <button class=\"colab-df-convert\" onclick=\"convertToInteractive('df-e0881b91-c33e-46e2-aab2-08df20a1310e')\"\n",
              "              title=\"Convert this dataframe to an interactive table.\"\n",
              "              style=\"display:none;\">\n",
              "\n",
              "  <svg xmlns=\"http://www.w3.org/2000/svg\" height=\"24px\"viewBox=\"0 0 24 24\"\n",
              "       width=\"24px\">\n",
              "    <path d=\"M0 0h24v24H0V0z\" fill=\"none\"/>\n",
              "    <path d=\"M18.56 5.44l.94 2.06.94-2.06 2.06-.94-2.06-.94-.94-2.06-.94 2.06-2.06.94zm-11 1L8.5 8.5l.94-2.06 2.06-.94-2.06-.94L8.5 2.5l-.94 2.06-2.06.94zm10 10l.94 2.06.94-2.06 2.06-.94-2.06-.94-.94-2.06-.94 2.06-2.06.94z\"/><path d=\"M17.41 7.96l-1.37-1.37c-.4-.4-.92-.59-1.43-.59-.52 0-1.04.2-1.43.59L10.3 9.45l-7.72 7.72c-.78.78-.78 2.05 0 2.83L4 21.41c.39.39.9.59 1.41.59.51 0 1.02-.2 1.41-.59l7.78-7.78 2.81-2.81c.8-.78.8-2.07 0-2.86zM5.41 20L4 18.59l7.72-7.72 1.47 1.35L5.41 20z\"/>\n",
              "  </svg>\n",
              "      </button>\n",
              "\n",
              "\n",
              "\n",
              "    <div id=\"df-00a62309-aca1-493c-8ba9-a57076794379\">\n",
              "      <button class=\"colab-df-quickchart\" onclick=\"quickchart('df-00a62309-aca1-493c-8ba9-a57076794379')\"\n",
              "              title=\"Suggest charts.\"\n",
              "              style=\"display:none;\">\n",
              "\n",
              "<svg xmlns=\"http://www.w3.org/2000/svg\" height=\"24px\"viewBox=\"0 0 24 24\"\n",
              "     width=\"24px\">\n",
              "    <g>\n",
              "        <path d=\"M19 3H5c-1.1 0-2 .9-2 2v14c0 1.1.9 2 2 2h14c1.1 0 2-.9 2-2V5c0-1.1-.9-2-2-2zM9 17H7v-7h2v7zm4 0h-2V7h2v10zm4 0h-2v-4h2v4z\"/>\n",
              "    </g>\n",
              "</svg>\n",
              "      </button>\n",
              "    </div>\n",
              "\n",
              "<style>\n",
              "  .colab-df-quickchart {\n",
              "    background-color: #E8F0FE;\n",
              "    border: none;\n",
              "    border-radius: 50%;\n",
              "    cursor: pointer;\n",
              "    display: none;\n",
              "    fill: #1967D2;\n",
              "    height: 32px;\n",
              "    padding: 0 0 0 0;\n",
              "    width: 32px;\n",
              "  }\n",
              "\n",
              "  .colab-df-quickchart:hover {\n",
              "    background-color: #E2EBFA;\n",
              "    box-shadow: 0px 1px 2px rgba(60, 64, 67, 0.3), 0px 1px 3px 1px rgba(60, 64, 67, 0.15);\n",
              "    fill: #174EA6;\n",
              "  }\n",
              "\n",
              "  [theme=dark] .colab-df-quickchart {\n",
              "    background-color: #3B4455;\n",
              "    fill: #D2E3FC;\n",
              "  }\n",
              "\n",
              "  [theme=dark] .colab-df-quickchart:hover {\n",
              "    background-color: #434B5C;\n",
              "    box-shadow: 0px 1px 3px 1px rgba(0, 0, 0, 0.15);\n",
              "    filter: drop-shadow(0px 1px 2px rgba(0, 0, 0, 0.3));\n",
              "    fill: #FFFFFF;\n",
              "  }\n",
              "</style>\n",
              "\n",
              "    <script>\n",
              "      async function quickchart(key) {\n",
              "        const containerElement = document.querySelector('#' + key);\n",
              "        const charts = await google.colab.kernel.invokeFunction(\n",
              "            'suggestCharts', [key], {});\n",
              "      }\n",
              "    </script>\n",
              "\n",
              "      <script>\n",
              "\n",
              "function displayQuickchartButton(domScope) {\n",
              "  let quickchartButtonEl =\n",
              "    domScope.querySelector('#df-00a62309-aca1-493c-8ba9-a57076794379 button.colab-df-quickchart');\n",
              "  quickchartButtonEl.style.display =\n",
              "    google.colab.kernel.accessAllowed ? 'block' : 'none';\n",
              "}\n",
              "\n",
              "        displayQuickchartButton(document);\n",
              "      </script>\n",
              "      <style>\n",
              "    .colab-df-container {\n",
              "      display:flex;\n",
              "      flex-wrap:wrap;\n",
              "      gap: 12px;\n",
              "    }\n",
              "\n",
              "    .colab-df-convert {\n",
              "      background-color: #E8F0FE;\n",
              "      border: none;\n",
              "      border-radius: 50%;\n",
              "      cursor: pointer;\n",
              "      display: none;\n",
              "      fill: #1967D2;\n",
              "      height: 32px;\n",
              "      padding: 0 0 0 0;\n",
              "      width: 32px;\n",
              "    }\n",
              "\n",
              "    .colab-df-convert:hover {\n",
              "      background-color: #E2EBFA;\n",
              "      box-shadow: 0px 1px 2px rgba(60, 64, 67, 0.3), 0px 1px 3px 1px rgba(60, 64, 67, 0.15);\n",
              "      fill: #174EA6;\n",
              "    }\n",
              "\n",
              "    [theme=dark] .colab-df-convert {\n",
              "      background-color: #3B4455;\n",
              "      fill: #D2E3FC;\n",
              "    }\n",
              "\n",
              "    [theme=dark] .colab-df-convert:hover {\n",
              "      background-color: #434B5C;\n",
              "      box-shadow: 0px 1px 3px 1px rgba(0, 0, 0, 0.15);\n",
              "      filter: drop-shadow(0px 1px 2px rgba(0, 0, 0, 0.3));\n",
              "      fill: #FFFFFF;\n",
              "    }\n",
              "  </style>\n",
              "\n",
              "      <script>\n",
              "        const buttonEl =\n",
              "          document.querySelector('#df-e0881b91-c33e-46e2-aab2-08df20a1310e button.colab-df-convert');\n",
              "        buttonEl.style.display =\n",
              "          google.colab.kernel.accessAllowed ? 'block' : 'none';\n",
              "\n",
              "        async function convertToInteractive(key) {\n",
              "          const element = document.querySelector('#df-e0881b91-c33e-46e2-aab2-08df20a1310e');\n",
              "          const dataTable =\n",
              "            await google.colab.kernel.invokeFunction('convertToInteractive',\n",
              "                                                     [key], {});\n",
              "          if (!dataTable) return;\n",
              "\n",
              "          const docLinkHtml = 'Like what you see? Visit the ' +\n",
              "            '<a target=\"_blank\" href=https://colab.research.google.com/notebooks/data_table.ipynb>data table notebook</a>'\n",
              "            + ' to learn more about interactive tables.';\n",
              "          element.innerHTML = '';\n",
              "          dataTable['output_type'] = 'display_data';\n",
              "          await google.colab.output.renderOutput(dataTable, element);\n",
              "          const docLink = document.createElement('div');\n",
              "          docLink.innerHTML = docLinkHtml;\n",
              "          element.appendChild(docLink);\n",
              "        }\n",
              "      </script>\n",
              "    </div>\n",
              "  </div>\n"
            ]
          },
          "metadata": {},
          "execution_count": 180
        }
      ]
    },
    {
      "cell_type": "code",
      "source": [
        "new_data['t']=np.arange(1,43)\n",
        "new_data.head(5)"
      ],
      "metadata": {
        "colab": {
          "base_uri": "https://localhost:8080/",
          "height": 206
        },
        "id": "rC1DkjvLlO76",
        "outputId": "e08539bc-87ba-454a-96d7-36b1d90d70b9"
      },
      "execution_count": 181,
      "outputs": [
        {
          "output_type": "execute_result",
          "data": {
            "text/plain": [
              "  Quarter        Sales quarter  Q1  Q2  Q3  Q4  t\n",
              "0   Q1_86  1734.827000      Q1   1   0   0   0  1\n",
              "1   Q2_86  2244.960999      Q2   0   1   0   0  2\n",
              "2   Q3_86  2533.804993      Q3   0   0   1   0  3\n",
              "3   Q4_86  2154.962997      Q4   0   0   0   1  4\n",
              "4   Q1_87  1547.818996      Q1   1   0   0   0  5"
            ],
            "text/html": [
              "\n",
              "\n",
              "  <div id=\"df-ee78b41b-db56-4075-bbf6-b584c4e7a7f3\">\n",
              "    <div class=\"colab-df-container\">\n",
              "      <div>\n",
              "<style scoped>\n",
              "    .dataframe tbody tr th:only-of-type {\n",
              "        vertical-align: middle;\n",
              "    }\n",
              "\n",
              "    .dataframe tbody tr th {\n",
              "        vertical-align: top;\n",
              "    }\n",
              "\n",
              "    .dataframe thead th {\n",
              "        text-align: right;\n",
              "    }\n",
              "</style>\n",
              "<table border=\"1\" class=\"dataframe\">\n",
              "  <thead>\n",
              "    <tr style=\"text-align: right;\">\n",
              "      <th></th>\n",
              "      <th>Quarter</th>\n",
              "      <th>Sales</th>\n",
              "      <th>quarter</th>\n",
              "      <th>Q1</th>\n",
              "      <th>Q2</th>\n",
              "      <th>Q3</th>\n",
              "      <th>Q4</th>\n",
              "      <th>t</th>\n",
              "    </tr>\n",
              "  </thead>\n",
              "  <tbody>\n",
              "    <tr>\n",
              "      <th>0</th>\n",
              "      <td>Q1_86</td>\n",
              "      <td>1734.827000</td>\n",
              "      <td>Q1</td>\n",
              "      <td>1</td>\n",
              "      <td>0</td>\n",
              "      <td>0</td>\n",
              "      <td>0</td>\n",
              "      <td>1</td>\n",
              "    </tr>\n",
              "    <tr>\n",
              "      <th>1</th>\n",
              "      <td>Q2_86</td>\n",
              "      <td>2244.960999</td>\n",
              "      <td>Q2</td>\n",
              "      <td>0</td>\n",
              "      <td>1</td>\n",
              "      <td>0</td>\n",
              "      <td>0</td>\n",
              "      <td>2</td>\n",
              "    </tr>\n",
              "    <tr>\n",
              "      <th>2</th>\n",
              "      <td>Q3_86</td>\n",
              "      <td>2533.804993</td>\n",
              "      <td>Q3</td>\n",
              "      <td>0</td>\n",
              "      <td>0</td>\n",
              "      <td>1</td>\n",
              "      <td>0</td>\n",
              "      <td>3</td>\n",
              "    </tr>\n",
              "    <tr>\n",
              "      <th>3</th>\n",
              "      <td>Q4_86</td>\n",
              "      <td>2154.962997</td>\n",
              "      <td>Q4</td>\n",
              "      <td>0</td>\n",
              "      <td>0</td>\n",
              "      <td>0</td>\n",
              "      <td>1</td>\n",
              "      <td>4</td>\n",
              "    </tr>\n",
              "    <tr>\n",
              "      <th>4</th>\n",
              "      <td>Q1_87</td>\n",
              "      <td>1547.818996</td>\n",
              "      <td>Q1</td>\n",
              "      <td>1</td>\n",
              "      <td>0</td>\n",
              "      <td>0</td>\n",
              "      <td>0</td>\n",
              "      <td>5</td>\n",
              "    </tr>\n",
              "  </tbody>\n",
              "</table>\n",
              "</div>\n",
              "      <button class=\"colab-df-convert\" onclick=\"convertToInteractive('df-ee78b41b-db56-4075-bbf6-b584c4e7a7f3')\"\n",
              "              title=\"Convert this dataframe to an interactive table.\"\n",
              "              style=\"display:none;\">\n",
              "\n",
              "  <svg xmlns=\"http://www.w3.org/2000/svg\" height=\"24px\"viewBox=\"0 0 24 24\"\n",
              "       width=\"24px\">\n",
              "    <path d=\"M0 0h24v24H0V0z\" fill=\"none\"/>\n",
              "    <path d=\"M18.56 5.44l.94 2.06.94-2.06 2.06-.94-2.06-.94-.94-2.06-.94 2.06-2.06.94zm-11 1L8.5 8.5l.94-2.06 2.06-.94-2.06-.94L8.5 2.5l-.94 2.06-2.06.94zm10 10l.94 2.06.94-2.06 2.06-.94-2.06-.94-.94-2.06-.94 2.06-2.06.94z\"/><path d=\"M17.41 7.96l-1.37-1.37c-.4-.4-.92-.59-1.43-.59-.52 0-1.04.2-1.43.59L10.3 9.45l-7.72 7.72c-.78.78-.78 2.05 0 2.83L4 21.41c.39.39.9.59 1.41.59.51 0 1.02-.2 1.41-.59l7.78-7.78 2.81-2.81c.8-.78.8-2.07 0-2.86zM5.41 20L4 18.59l7.72-7.72 1.47 1.35L5.41 20z\"/>\n",
              "  </svg>\n",
              "      </button>\n",
              "\n",
              "\n",
              "\n",
              "    <div id=\"df-bc287a52-04ec-4187-b279-b0b93ca4f93d\">\n",
              "      <button class=\"colab-df-quickchart\" onclick=\"quickchart('df-bc287a52-04ec-4187-b279-b0b93ca4f93d')\"\n",
              "              title=\"Suggest charts.\"\n",
              "              style=\"display:none;\">\n",
              "\n",
              "<svg xmlns=\"http://www.w3.org/2000/svg\" height=\"24px\"viewBox=\"0 0 24 24\"\n",
              "     width=\"24px\">\n",
              "    <g>\n",
              "        <path d=\"M19 3H5c-1.1 0-2 .9-2 2v14c0 1.1.9 2 2 2h14c1.1 0 2-.9 2-2V5c0-1.1-.9-2-2-2zM9 17H7v-7h2v7zm4 0h-2V7h2v10zm4 0h-2v-4h2v4z\"/>\n",
              "    </g>\n",
              "</svg>\n",
              "      </button>\n",
              "    </div>\n",
              "\n",
              "<style>\n",
              "  .colab-df-quickchart {\n",
              "    background-color: #E8F0FE;\n",
              "    border: none;\n",
              "    border-radius: 50%;\n",
              "    cursor: pointer;\n",
              "    display: none;\n",
              "    fill: #1967D2;\n",
              "    height: 32px;\n",
              "    padding: 0 0 0 0;\n",
              "    width: 32px;\n",
              "  }\n",
              "\n",
              "  .colab-df-quickchart:hover {\n",
              "    background-color: #E2EBFA;\n",
              "    box-shadow: 0px 1px 2px rgba(60, 64, 67, 0.3), 0px 1px 3px 1px rgba(60, 64, 67, 0.15);\n",
              "    fill: #174EA6;\n",
              "  }\n",
              "\n",
              "  [theme=dark] .colab-df-quickchart {\n",
              "    background-color: #3B4455;\n",
              "    fill: #D2E3FC;\n",
              "  }\n",
              "\n",
              "  [theme=dark] .colab-df-quickchart:hover {\n",
              "    background-color: #434B5C;\n",
              "    box-shadow: 0px 1px 3px 1px rgba(0, 0, 0, 0.15);\n",
              "    filter: drop-shadow(0px 1px 2px rgba(0, 0, 0, 0.3));\n",
              "    fill: #FFFFFF;\n",
              "  }\n",
              "</style>\n",
              "\n",
              "    <script>\n",
              "      async function quickchart(key) {\n",
              "        const containerElement = document.querySelector('#' + key);\n",
              "        const charts = await google.colab.kernel.invokeFunction(\n",
              "            'suggestCharts', [key], {});\n",
              "      }\n",
              "    </script>\n",
              "\n",
              "      <script>\n",
              "\n",
              "function displayQuickchartButton(domScope) {\n",
              "  let quickchartButtonEl =\n",
              "    domScope.querySelector('#df-bc287a52-04ec-4187-b279-b0b93ca4f93d button.colab-df-quickchart');\n",
              "  quickchartButtonEl.style.display =\n",
              "    google.colab.kernel.accessAllowed ? 'block' : 'none';\n",
              "}\n",
              "\n",
              "        displayQuickchartButton(document);\n",
              "      </script>\n",
              "      <style>\n",
              "    .colab-df-container {\n",
              "      display:flex;\n",
              "      flex-wrap:wrap;\n",
              "      gap: 12px;\n",
              "    }\n",
              "\n",
              "    .colab-df-convert {\n",
              "      background-color: #E8F0FE;\n",
              "      border: none;\n",
              "      border-radius: 50%;\n",
              "      cursor: pointer;\n",
              "      display: none;\n",
              "      fill: #1967D2;\n",
              "      height: 32px;\n",
              "      padding: 0 0 0 0;\n",
              "      width: 32px;\n",
              "    }\n",
              "\n",
              "    .colab-df-convert:hover {\n",
              "      background-color: #E2EBFA;\n",
              "      box-shadow: 0px 1px 2px rgba(60, 64, 67, 0.3), 0px 1px 3px 1px rgba(60, 64, 67, 0.15);\n",
              "      fill: #174EA6;\n",
              "    }\n",
              "\n",
              "    [theme=dark] .colab-df-convert {\n",
              "      background-color: #3B4455;\n",
              "      fill: #D2E3FC;\n",
              "    }\n",
              "\n",
              "    [theme=dark] .colab-df-convert:hover {\n",
              "      background-color: #434B5C;\n",
              "      box-shadow: 0px 1px 3px 1px rgba(0, 0, 0, 0.15);\n",
              "      filter: drop-shadow(0px 1px 2px rgba(0, 0, 0, 0.3));\n",
              "      fill: #FFFFFF;\n",
              "    }\n",
              "  </style>\n",
              "\n",
              "      <script>\n",
              "        const buttonEl =\n",
              "          document.querySelector('#df-ee78b41b-db56-4075-bbf6-b584c4e7a7f3 button.colab-df-convert');\n",
              "        buttonEl.style.display =\n",
              "          google.colab.kernel.accessAllowed ? 'block' : 'none';\n",
              "\n",
              "        async function convertToInteractive(key) {\n",
              "          const element = document.querySelector('#df-ee78b41b-db56-4075-bbf6-b584c4e7a7f3');\n",
              "          const dataTable =\n",
              "            await google.colab.kernel.invokeFunction('convertToInteractive',\n",
              "                                                     [key], {});\n",
              "          if (!dataTable) return;\n",
              "\n",
              "          const docLinkHtml = 'Like what you see? Visit the ' +\n",
              "            '<a target=\"_blank\" href=https://colab.research.google.com/notebooks/data_table.ipynb>data table notebook</a>'\n",
              "            + ' to learn more about interactive tables.';\n",
              "          element.innerHTML = '';\n",
              "          dataTable['output_type'] = 'display_data';\n",
              "          await google.colab.output.renderOutput(dataTable, element);\n",
              "          const docLink = document.createElement('div');\n",
              "          docLink.innerHTML = docLinkHtml;\n",
              "          element.appendChild(docLink);\n",
              "        }\n",
              "      </script>\n",
              "    </div>\n",
              "  </div>\n"
            ]
          },
          "metadata": {},
          "execution_count": 181
        }
      ]
    },
    {
      "cell_type": "code",
      "source": [
        "# for i in range(1,data.shape[0]):\n",
        "#     new_data['t_square'] = data['t'][i]\n",
        "# new_data.head(5)\n",
        "t2=[]\n",
        "for i in range(1,data.shape[0]+1):\n",
        "  t2.append(i**2)"
      ],
      "metadata": {
        "id": "PG6WLFkCopyS"
      },
      "execution_count": 182,
      "outputs": []
    },
    {
      "cell_type": "code",
      "source": [
        "new_data=pd.concat([new_data,pd.DataFrame(t2,index=new_data.index,columns=['t2'])],axis=1)"
      ],
      "metadata": {
        "id": "6gfDNhPVsQoY"
      },
      "execution_count": 183,
      "outputs": []
    },
    {
      "cell_type": "code",
      "source": [
        "new_data.head(5)"
      ],
      "metadata": {
        "colab": {
          "base_uri": "https://localhost:8080/",
          "height": 206
        },
        "id": "cJ14efB3p3v-",
        "outputId": "ea2a7e1e-12a0-4f53-9bf2-d1110874c14e"
      },
      "execution_count": 184,
      "outputs": [
        {
          "output_type": "execute_result",
          "data": {
            "text/plain": [
              "  Quarter        Sales quarter  Q1  Q2  Q3  Q4  t  t2\n",
              "0   Q1_86  1734.827000      Q1   1   0   0   0  1   1\n",
              "1   Q2_86  2244.960999      Q2   0   1   0   0  2   4\n",
              "2   Q3_86  2533.804993      Q3   0   0   1   0  3   9\n",
              "3   Q4_86  2154.962997      Q4   0   0   0   1  4  16\n",
              "4   Q1_87  1547.818996      Q1   1   0   0   0  5  25"
            ],
            "text/html": [
              "\n",
              "\n",
              "  <div id=\"df-ba8d047c-3863-4776-8833-8d5db4ef70cb\">\n",
              "    <div class=\"colab-df-container\">\n",
              "      <div>\n",
              "<style scoped>\n",
              "    .dataframe tbody tr th:only-of-type {\n",
              "        vertical-align: middle;\n",
              "    }\n",
              "\n",
              "    .dataframe tbody tr th {\n",
              "        vertical-align: top;\n",
              "    }\n",
              "\n",
              "    .dataframe thead th {\n",
              "        text-align: right;\n",
              "    }\n",
              "</style>\n",
              "<table border=\"1\" class=\"dataframe\">\n",
              "  <thead>\n",
              "    <tr style=\"text-align: right;\">\n",
              "      <th></th>\n",
              "      <th>Quarter</th>\n",
              "      <th>Sales</th>\n",
              "      <th>quarter</th>\n",
              "      <th>Q1</th>\n",
              "      <th>Q2</th>\n",
              "      <th>Q3</th>\n",
              "      <th>Q4</th>\n",
              "      <th>t</th>\n",
              "      <th>t2</th>\n",
              "    </tr>\n",
              "  </thead>\n",
              "  <tbody>\n",
              "    <tr>\n",
              "      <th>0</th>\n",
              "      <td>Q1_86</td>\n",
              "      <td>1734.827000</td>\n",
              "      <td>Q1</td>\n",
              "      <td>1</td>\n",
              "      <td>0</td>\n",
              "      <td>0</td>\n",
              "      <td>0</td>\n",
              "      <td>1</td>\n",
              "      <td>1</td>\n",
              "    </tr>\n",
              "    <tr>\n",
              "      <th>1</th>\n",
              "      <td>Q2_86</td>\n",
              "      <td>2244.960999</td>\n",
              "      <td>Q2</td>\n",
              "      <td>0</td>\n",
              "      <td>1</td>\n",
              "      <td>0</td>\n",
              "      <td>0</td>\n",
              "      <td>2</td>\n",
              "      <td>4</td>\n",
              "    </tr>\n",
              "    <tr>\n",
              "      <th>2</th>\n",
              "      <td>Q3_86</td>\n",
              "      <td>2533.804993</td>\n",
              "      <td>Q3</td>\n",
              "      <td>0</td>\n",
              "      <td>0</td>\n",
              "      <td>1</td>\n",
              "      <td>0</td>\n",
              "      <td>3</td>\n",
              "      <td>9</td>\n",
              "    </tr>\n",
              "    <tr>\n",
              "      <th>3</th>\n",
              "      <td>Q4_86</td>\n",
              "      <td>2154.962997</td>\n",
              "      <td>Q4</td>\n",
              "      <td>0</td>\n",
              "      <td>0</td>\n",
              "      <td>0</td>\n",
              "      <td>1</td>\n",
              "      <td>4</td>\n",
              "      <td>16</td>\n",
              "    </tr>\n",
              "    <tr>\n",
              "      <th>4</th>\n",
              "      <td>Q1_87</td>\n",
              "      <td>1547.818996</td>\n",
              "      <td>Q1</td>\n",
              "      <td>1</td>\n",
              "      <td>0</td>\n",
              "      <td>0</td>\n",
              "      <td>0</td>\n",
              "      <td>5</td>\n",
              "      <td>25</td>\n",
              "    </tr>\n",
              "  </tbody>\n",
              "</table>\n",
              "</div>\n",
              "      <button class=\"colab-df-convert\" onclick=\"convertToInteractive('df-ba8d047c-3863-4776-8833-8d5db4ef70cb')\"\n",
              "              title=\"Convert this dataframe to an interactive table.\"\n",
              "              style=\"display:none;\">\n",
              "\n",
              "  <svg xmlns=\"http://www.w3.org/2000/svg\" height=\"24px\"viewBox=\"0 0 24 24\"\n",
              "       width=\"24px\">\n",
              "    <path d=\"M0 0h24v24H0V0z\" fill=\"none\"/>\n",
              "    <path d=\"M18.56 5.44l.94 2.06.94-2.06 2.06-.94-2.06-.94-.94-2.06-.94 2.06-2.06.94zm-11 1L8.5 8.5l.94-2.06 2.06-.94-2.06-.94L8.5 2.5l-.94 2.06-2.06.94zm10 10l.94 2.06.94-2.06 2.06-.94-2.06-.94-.94-2.06-.94 2.06-2.06.94z\"/><path d=\"M17.41 7.96l-1.37-1.37c-.4-.4-.92-.59-1.43-.59-.52 0-1.04.2-1.43.59L10.3 9.45l-7.72 7.72c-.78.78-.78 2.05 0 2.83L4 21.41c.39.39.9.59 1.41.59.51 0 1.02-.2 1.41-.59l7.78-7.78 2.81-2.81c.8-.78.8-2.07 0-2.86zM5.41 20L4 18.59l7.72-7.72 1.47 1.35L5.41 20z\"/>\n",
              "  </svg>\n",
              "      </button>\n",
              "\n",
              "\n",
              "\n",
              "    <div id=\"df-35d8d519-a62f-4f8c-8e75-5524b329954c\">\n",
              "      <button class=\"colab-df-quickchart\" onclick=\"quickchart('df-35d8d519-a62f-4f8c-8e75-5524b329954c')\"\n",
              "              title=\"Suggest charts.\"\n",
              "              style=\"display:none;\">\n",
              "\n",
              "<svg xmlns=\"http://www.w3.org/2000/svg\" height=\"24px\"viewBox=\"0 0 24 24\"\n",
              "     width=\"24px\">\n",
              "    <g>\n",
              "        <path d=\"M19 3H5c-1.1 0-2 .9-2 2v14c0 1.1.9 2 2 2h14c1.1 0 2-.9 2-2V5c0-1.1-.9-2-2-2zM9 17H7v-7h2v7zm4 0h-2V7h2v10zm4 0h-2v-4h2v4z\"/>\n",
              "    </g>\n",
              "</svg>\n",
              "      </button>\n",
              "    </div>\n",
              "\n",
              "<style>\n",
              "  .colab-df-quickchart {\n",
              "    background-color: #E8F0FE;\n",
              "    border: none;\n",
              "    border-radius: 50%;\n",
              "    cursor: pointer;\n",
              "    display: none;\n",
              "    fill: #1967D2;\n",
              "    height: 32px;\n",
              "    padding: 0 0 0 0;\n",
              "    width: 32px;\n",
              "  }\n",
              "\n",
              "  .colab-df-quickchart:hover {\n",
              "    background-color: #E2EBFA;\n",
              "    box-shadow: 0px 1px 2px rgba(60, 64, 67, 0.3), 0px 1px 3px 1px rgba(60, 64, 67, 0.15);\n",
              "    fill: #174EA6;\n",
              "  }\n",
              "\n",
              "  [theme=dark] .colab-df-quickchart {\n",
              "    background-color: #3B4455;\n",
              "    fill: #D2E3FC;\n",
              "  }\n",
              "\n",
              "  [theme=dark] .colab-df-quickchart:hover {\n",
              "    background-color: #434B5C;\n",
              "    box-shadow: 0px 1px 3px 1px rgba(0, 0, 0, 0.15);\n",
              "    filter: drop-shadow(0px 1px 2px rgba(0, 0, 0, 0.3));\n",
              "    fill: #FFFFFF;\n",
              "  }\n",
              "</style>\n",
              "\n",
              "    <script>\n",
              "      async function quickchart(key) {\n",
              "        const containerElement = document.querySelector('#' + key);\n",
              "        const charts = await google.colab.kernel.invokeFunction(\n",
              "            'suggestCharts', [key], {});\n",
              "      }\n",
              "    </script>\n",
              "\n",
              "      <script>\n",
              "\n",
              "function displayQuickchartButton(domScope) {\n",
              "  let quickchartButtonEl =\n",
              "    domScope.querySelector('#df-35d8d519-a62f-4f8c-8e75-5524b329954c button.colab-df-quickchart');\n",
              "  quickchartButtonEl.style.display =\n",
              "    google.colab.kernel.accessAllowed ? 'block' : 'none';\n",
              "}\n",
              "\n",
              "        displayQuickchartButton(document);\n",
              "      </script>\n",
              "      <style>\n",
              "    .colab-df-container {\n",
              "      display:flex;\n",
              "      flex-wrap:wrap;\n",
              "      gap: 12px;\n",
              "    }\n",
              "\n",
              "    .colab-df-convert {\n",
              "      background-color: #E8F0FE;\n",
              "      border: none;\n",
              "      border-radius: 50%;\n",
              "      cursor: pointer;\n",
              "      display: none;\n",
              "      fill: #1967D2;\n",
              "      height: 32px;\n",
              "      padding: 0 0 0 0;\n",
              "      width: 32px;\n",
              "    }\n",
              "\n",
              "    .colab-df-convert:hover {\n",
              "      background-color: #E2EBFA;\n",
              "      box-shadow: 0px 1px 2px rgba(60, 64, 67, 0.3), 0px 1px 3px 1px rgba(60, 64, 67, 0.15);\n",
              "      fill: #174EA6;\n",
              "    }\n",
              "\n",
              "    [theme=dark] .colab-df-convert {\n",
              "      background-color: #3B4455;\n",
              "      fill: #D2E3FC;\n",
              "    }\n",
              "\n",
              "    [theme=dark] .colab-df-convert:hover {\n",
              "      background-color: #434B5C;\n",
              "      box-shadow: 0px 1px 3px 1px rgba(0, 0, 0, 0.15);\n",
              "      filter: drop-shadow(0px 1px 2px rgba(0, 0, 0, 0.3));\n",
              "      fill: #FFFFFF;\n",
              "    }\n",
              "  </style>\n",
              "\n",
              "      <script>\n",
              "        const buttonEl =\n",
              "          document.querySelector('#df-ba8d047c-3863-4776-8833-8d5db4ef70cb button.colab-df-convert');\n",
              "        buttonEl.style.display =\n",
              "          google.colab.kernel.accessAllowed ? 'block' : 'none';\n",
              "\n",
              "        async function convertToInteractive(key) {\n",
              "          const element = document.querySelector('#df-ba8d047c-3863-4776-8833-8d5db4ef70cb');\n",
              "          const dataTable =\n",
              "            await google.colab.kernel.invokeFunction('convertToInteractive',\n",
              "                                                     [key], {});\n",
              "          if (!dataTable) return;\n",
              "\n",
              "          const docLinkHtml = 'Like what you see? Visit the ' +\n",
              "            '<a target=\"_blank\" href=https://colab.research.google.com/notebooks/data_table.ipynb>data table notebook</a>'\n",
              "            + ' to learn more about interactive tables.';\n",
              "          element.innerHTML = '';\n",
              "          dataTable['output_type'] = 'display_data';\n",
              "          await google.colab.output.renderOutput(dataTable, element);\n",
              "          const docLink = document.createElement('div');\n",
              "          docLink.innerHTML = docLinkHtml;\n",
              "          element.appendChild(docLink);\n",
              "        }\n",
              "      </script>\n",
              "    </div>\n",
              "  </div>\n"
            ]
          },
          "metadata": {},
          "execution_count": 184
        }
      ]
    },
    {
      "cell_type": "code",
      "source": [
        "log_sales=np.log(new_data['Sales'])\n",
        "new_data['log_sales']=log_sales"
      ],
      "metadata": {
        "id": "3s4CnwWwtxx_"
      },
      "execution_count": 185,
      "outputs": []
    },
    {
      "cell_type": "code",
      "source": [
        "new_data.sample(5)"
      ],
      "metadata": {
        "colab": {
          "base_uri": "https://localhost:8080/",
          "height": 206
        },
        "id": "8D9ICVC9EFhW",
        "outputId": "80a753a3-1e06-402b-fc9f-4dfcd0f4eb00"
      },
      "execution_count": 209,
      "outputs": [
        {
          "output_type": "execute_result",
          "data": {
            "text/plain": [
              "   Quarter        Sales quarter  Q1  Q2  Q3  Q4   t    t2  log_sales\n",
              "37   Q2_95  4936.000000      Q2   0   1   0   0  38  1444   8.504311\n",
              "18   Q3_90  2792.753998      Q3   0   0   1   0  19   361   7.934783\n",
              "15   Q4_89  2173.967995      Q4   0   0   0   1  16   256   7.684309\n",
              "30   Q3_93  3629.000000      Q3   0   0   1   0  31   961   8.196712\n",
              "5    Q2_87  2104.411995      Q2   0   1   0   0   6    36   7.651791"
            ],
            "text/html": [
              "\n",
              "\n",
              "  <div id=\"df-93b38d00-e552-4fbd-b25d-bde6124f7be8\">\n",
              "    <div class=\"colab-df-container\">\n",
              "      <div>\n",
              "<style scoped>\n",
              "    .dataframe tbody tr th:only-of-type {\n",
              "        vertical-align: middle;\n",
              "    }\n",
              "\n",
              "    .dataframe tbody tr th {\n",
              "        vertical-align: top;\n",
              "    }\n",
              "\n",
              "    .dataframe thead th {\n",
              "        text-align: right;\n",
              "    }\n",
              "</style>\n",
              "<table border=\"1\" class=\"dataframe\">\n",
              "  <thead>\n",
              "    <tr style=\"text-align: right;\">\n",
              "      <th></th>\n",
              "      <th>Quarter</th>\n",
              "      <th>Sales</th>\n",
              "      <th>quarter</th>\n",
              "      <th>Q1</th>\n",
              "      <th>Q2</th>\n",
              "      <th>Q3</th>\n",
              "      <th>Q4</th>\n",
              "      <th>t</th>\n",
              "      <th>t2</th>\n",
              "      <th>log_sales</th>\n",
              "    </tr>\n",
              "  </thead>\n",
              "  <tbody>\n",
              "    <tr>\n",
              "      <th>37</th>\n",
              "      <td>Q2_95</td>\n",
              "      <td>4936.000000</td>\n",
              "      <td>Q2</td>\n",
              "      <td>0</td>\n",
              "      <td>1</td>\n",
              "      <td>0</td>\n",
              "      <td>0</td>\n",
              "      <td>38</td>\n",
              "      <td>1444</td>\n",
              "      <td>8.504311</td>\n",
              "    </tr>\n",
              "    <tr>\n",
              "      <th>18</th>\n",
              "      <td>Q3_90</td>\n",
              "      <td>2792.753998</td>\n",
              "      <td>Q3</td>\n",
              "      <td>0</td>\n",
              "      <td>0</td>\n",
              "      <td>1</td>\n",
              "      <td>0</td>\n",
              "      <td>19</td>\n",
              "      <td>361</td>\n",
              "      <td>7.934783</td>\n",
              "    </tr>\n",
              "    <tr>\n",
              "      <th>15</th>\n",
              "      <td>Q4_89</td>\n",
              "      <td>2173.967995</td>\n",
              "      <td>Q4</td>\n",
              "      <td>0</td>\n",
              "      <td>0</td>\n",
              "      <td>0</td>\n",
              "      <td>1</td>\n",
              "      <td>16</td>\n",
              "      <td>256</td>\n",
              "      <td>7.684309</td>\n",
              "    </tr>\n",
              "    <tr>\n",
              "      <th>30</th>\n",
              "      <td>Q3_93</td>\n",
              "      <td>3629.000000</td>\n",
              "      <td>Q3</td>\n",
              "      <td>0</td>\n",
              "      <td>0</td>\n",
              "      <td>1</td>\n",
              "      <td>0</td>\n",
              "      <td>31</td>\n",
              "      <td>961</td>\n",
              "      <td>8.196712</td>\n",
              "    </tr>\n",
              "    <tr>\n",
              "      <th>5</th>\n",
              "      <td>Q2_87</td>\n",
              "      <td>2104.411995</td>\n",
              "      <td>Q2</td>\n",
              "      <td>0</td>\n",
              "      <td>1</td>\n",
              "      <td>0</td>\n",
              "      <td>0</td>\n",
              "      <td>6</td>\n",
              "      <td>36</td>\n",
              "      <td>7.651791</td>\n",
              "    </tr>\n",
              "  </tbody>\n",
              "</table>\n",
              "</div>\n",
              "      <button class=\"colab-df-convert\" onclick=\"convertToInteractive('df-93b38d00-e552-4fbd-b25d-bde6124f7be8')\"\n",
              "              title=\"Convert this dataframe to an interactive table.\"\n",
              "              style=\"display:none;\">\n",
              "\n",
              "  <svg xmlns=\"http://www.w3.org/2000/svg\" height=\"24px\"viewBox=\"0 0 24 24\"\n",
              "       width=\"24px\">\n",
              "    <path d=\"M0 0h24v24H0V0z\" fill=\"none\"/>\n",
              "    <path d=\"M18.56 5.44l.94 2.06.94-2.06 2.06-.94-2.06-.94-.94-2.06-.94 2.06-2.06.94zm-11 1L8.5 8.5l.94-2.06 2.06-.94-2.06-.94L8.5 2.5l-.94 2.06-2.06.94zm10 10l.94 2.06.94-2.06 2.06-.94-2.06-.94-.94-2.06-.94 2.06-2.06.94z\"/><path d=\"M17.41 7.96l-1.37-1.37c-.4-.4-.92-.59-1.43-.59-.52 0-1.04.2-1.43.59L10.3 9.45l-7.72 7.72c-.78.78-.78 2.05 0 2.83L4 21.41c.39.39.9.59 1.41.59.51 0 1.02-.2 1.41-.59l7.78-7.78 2.81-2.81c.8-.78.8-2.07 0-2.86zM5.41 20L4 18.59l7.72-7.72 1.47 1.35L5.41 20z\"/>\n",
              "  </svg>\n",
              "      </button>\n",
              "\n",
              "\n",
              "\n",
              "    <div id=\"df-dc7267f6-77ce-42fc-82e6-85f8059b88fc\">\n",
              "      <button class=\"colab-df-quickchart\" onclick=\"quickchart('df-dc7267f6-77ce-42fc-82e6-85f8059b88fc')\"\n",
              "              title=\"Suggest charts.\"\n",
              "              style=\"display:none;\">\n",
              "\n",
              "<svg xmlns=\"http://www.w3.org/2000/svg\" height=\"24px\"viewBox=\"0 0 24 24\"\n",
              "     width=\"24px\">\n",
              "    <g>\n",
              "        <path d=\"M19 3H5c-1.1 0-2 .9-2 2v14c0 1.1.9 2 2 2h14c1.1 0 2-.9 2-2V5c0-1.1-.9-2-2-2zM9 17H7v-7h2v7zm4 0h-2V7h2v10zm4 0h-2v-4h2v4z\"/>\n",
              "    </g>\n",
              "</svg>\n",
              "      </button>\n",
              "    </div>\n",
              "\n",
              "<style>\n",
              "  .colab-df-quickchart {\n",
              "    background-color: #E8F0FE;\n",
              "    border: none;\n",
              "    border-radius: 50%;\n",
              "    cursor: pointer;\n",
              "    display: none;\n",
              "    fill: #1967D2;\n",
              "    height: 32px;\n",
              "    padding: 0 0 0 0;\n",
              "    width: 32px;\n",
              "  }\n",
              "\n",
              "  .colab-df-quickchart:hover {\n",
              "    background-color: #E2EBFA;\n",
              "    box-shadow: 0px 1px 2px rgba(60, 64, 67, 0.3), 0px 1px 3px 1px rgba(60, 64, 67, 0.15);\n",
              "    fill: #174EA6;\n",
              "  }\n",
              "\n",
              "  [theme=dark] .colab-df-quickchart {\n",
              "    background-color: #3B4455;\n",
              "    fill: #D2E3FC;\n",
              "  }\n",
              "\n",
              "  [theme=dark] .colab-df-quickchart:hover {\n",
              "    background-color: #434B5C;\n",
              "    box-shadow: 0px 1px 3px 1px rgba(0, 0, 0, 0.15);\n",
              "    filter: drop-shadow(0px 1px 2px rgba(0, 0, 0, 0.3));\n",
              "    fill: #FFFFFF;\n",
              "  }\n",
              "</style>\n",
              "\n",
              "    <script>\n",
              "      async function quickchart(key) {\n",
              "        const containerElement = document.querySelector('#' + key);\n",
              "        const charts = await google.colab.kernel.invokeFunction(\n",
              "            'suggestCharts', [key], {});\n",
              "      }\n",
              "    </script>\n",
              "\n",
              "      <script>\n",
              "\n",
              "function displayQuickchartButton(domScope) {\n",
              "  let quickchartButtonEl =\n",
              "    domScope.querySelector('#df-dc7267f6-77ce-42fc-82e6-85f8059b88fc button.colab-df-quickchart');\n",
              "  quickchartButtonEl.style.display =\n",
              "    google.colab.kernel.accessAllowed ? 'block' : 'none';\n",
              "}\n",
              "\n",
              "        displayQuickchartButton(document);\n",
              "      </script>\n",
              "      <style>\n",
              "    .colab-df-container {\n",
              "      display:flex;\n",
              "      flex-wrap:wrap;\n",
              "      gap: 12px;\n",
              "    }\n",
              "\n",
              "    .colab-df-convert {\n",
              "      background-color: #E8F0FE;\n",
              "      border: none;\n",
              "      border-radius: 50%;\n",
              "      cursor: pointer;\n",
              "      display: none;\n",
              "      fill: #1967D2;\n",
              "      height: 32px;\n",
              "      padding: 0 0 0 0;\n",
              "      width: 32px;\n",
              "    }\n",
              "\n",
              "    .colab-df-convert:hover {\n",
              "      background-color: #E2EBFA;\n",
              "      box-shadow: 0px 1px 2px rgba(60, 64, 67, 0.3), 0px 1px 3px 1px rgba(60, 64, 67, 0.15);\n",
              "      fill: #174EA6;\n",
              "    }\n",
              "\n",
              "    [theme=dark] .colab-df-convert {\n",
              "      background-color: #3B4455;\n",
              "      fill: #D2E3FC;\n",
              "    }\n",
              "\n",
              "    [theme=dark] .colab-df-convert:hover {\n",
              "      background-color: #434B5C;\n",
              "      box-shadow: 0px 1px 3px 1px rgba(0, 0, 0, 0.15);\n",
              "      filter: drop-shadow(0px 1px 2px rgba(0, 0, 0, 0.3));\n",
              "      fill: #FFFFFF;\n",
              "    }\n",
              "  </style>\n",
              "\n",
              "      <script>\n",
              "        const buttonEl =\n",
              "          document.querySelector('#df-93b38d00-e552-4fbd-b25d-bde6124f7be8 button.colab-df-convert');\n",
              "        buttonEl.style.display =\n",
              "          google.colab.kernel.accessAllowed ? 'block' : 'none';\n",
              "\n",
              "        async function convertToInteractive(key) {\n",
              "          const element = document.querySelector('#df-93b38d00-e552-4fbd-b25d-bde6124f7be8');\n",
              "          const dataTable =\n",
              "            await google.colab.kernel.invokeFunction('convertToInteractive',\n",
              "                                                     [key], {});\n",
              "          if (!dataTable) return;\n",
              "\n",
              "          const docLinkHtml = 'Like what you see? Visit the ' +\n",
              "            '<a target=\"_blank\" href=https://colab.research.google.com/notebooks/data_table.ipynb>data table notebook</a>'\n",
              "            + ' to learn more about interactive tables.';\n",
              "          element.innerHTML = '';\n",
              "          dataTable['output_type'] = 'display_data';\n",
              "          await google.colab.output.renderOutput(dataTable, element);\n",
              "          const docLink = document.createElement('div');\n",
              "          docLink.innerHTML = docLinkHtml;\n",
              "          element.appendChild(docLink);\n",
              "        }\n",
              "      </script>\n",
              "    </div>\n",
              "  </div>\n"
            ]
          },
          "metadata": {},
          "execution_count": 209
        }
      ]
    },
    {
      "cell_type": "code",
      "source": [
        "train=new_data.head(data.shape[0]-10)"
      ],
      "metadata": {
        "id": "AeXPledllqIX"
      },
      "execution_count": 187,
      "outputs": []
    },
    {
      "cell_type": "code",
      "source": [
        "train.shape[0]"
      ],
      "metadata": {
        "colab": {
          "base_uri": "https://localhost:8080/"
        },
        "id": "4YWd9L9zmvbf",
        "outputId": "790d690d-0a15-48ed-e5b9-9e526844550f"
      },
      "execution_count": 188,
      "outputs": [
        {
          "output_type": "execute_result",
          "data": {
            "text/plain": [
              "32"
            ]
          },
          "metadata": {},
          "execution_count": 188
        }
      ]
    },
    {
      "cell_type": "code",
      "source": [
        "test=new_data.head(data.shape[0]-train.shape[0])"
      ],
      "metadata": {
        "id": "Um3LmUzameqI"
      },
      "execution_count": 189,
      "outputs": []
    },
    {
      "cell_type": "code",
      "source": [
        "data.Sales.plot()"
      ],
      "metadata": {
        "colab": {
          "base_uri": "https://localhost:8080/",
          "height": 447
        },
        "id": "i8zINpOBms9r",
        "outputId": "9ea9f697-d874-4dbb-855e-60bf2ec48ef1"
      },
      "execution_count": 190,
      "outputs": [
        {
          "output_type": "execute_result",
          "data": {
            "text/plain": [
              "<Axes: >"
            ]
          },
          "metadata": {},
          "execution_count": 190
        },
        {
          "output_type": "display_data",
          "data": {
            "text/plain": [
              "<Figure size 640x480 with 1 Axes>"
            ],
            "image/png": "[encoded data removed]"
          },
          "metadata": {}
        }
      ]
    },
    {
      "cell_type": "code",
      "source": [
        "#1linear midel\n",
        "model_linear=smf.ols('Sales~t',data=train).fit()\n",
        "pred_lin=pd.Series(model_linear.predict(pd.DataFrame(test['t'])))\n",
        "RMSELin=np.sqrt((np.mean(np.array(test['Sales'])-np.array(pred_lin))**2))\n",
        "RMSELin"
      ],
      "metadata": {
        "colab": {
          "base_uri": "https://localhost:8080/"
        },
        "id": "xbu8dvxtm2YA",
        "outputId": "39f77407-f41b-417b-8d60-876f175a66b1"
      },
      "execution_count": 191,
      "outputs": [
        {
          "output_type": "execute_result",
          "data": {
            "text/plain": [
              "109.62794167380181"
            ]
          },
          "metadata": {},
          "execution_count": 191
        }
      ]
    },
    {
      "cell_type": "code",
      "source": [
        "#2 Quadratic Model\n",
        "model_quad=smf.ols('Sales~t+pow(t,2)',data=train).fit()\n",
        "pred_quad=pd.Series(model_quad.predict(pd.DataFrame(test[['t','t2']])))\n",
        "RMSE_quad=np.sqrt(np.mean((np.array(test['Sales'])-np.array(pred_quad))**2))\n",
        "RMSE_quad"
      ],
      "metadata": {
        "colab": {
          "base_uri": "https://localhost:8080/"
        },
        "id": "bKk0jAZ3n6JL",
        "outputId": "87120640-6b46-40a9-ff2d-bbf924cfd75a"
      },
      "execution_count": 192,
      "outputs": [
        {
          "output_type": "execute_result",
          "data": {
            "text/plain": [
              "274.0542045824196"
            ]
          },
          "metadata": {},
          "execution_count": 192
        }
      ]
    },
    {
      "cell_type": "code",
      "source": [
        "#3 Exponential Model\n",
        "model_expo=smf.ols('log_sales~t',data=train).fit()\n",
        "pred_exp=pd.Series(model_expo.predict(pd.DataFrame(test['t'])))\n",
        "RMSE_exp=np.sqrt(np.mean((np.array(test['Sales'])-np.array(np.exp(pred_exp)))**2))\n",
        "RMSE_exp"
      ],
      "metadata": {
        "colab": {
          "base_uri": "https://localhost:8080/"
        },
        "id": "EkmAElUrt_UJ",
        "outputId": "b0c7332a-3124-4a13-ae0d-aa6aae23a00c"
      },
      "execution_count": 193,
      "outputs": [
        {
          "output_type": "execute_result",
          "data": {
            "text/plain": [
              "310.1846957586862"
            ]
          },
          "metadata": {},
          "execution_count": 193
        }
      ]
    },
    {
      "cell_type": "code",
      "source": [
        "#4 Additive seasibality\n",
        "Add_season=smf.ols('Sales~Q1+Q2+Q3+Q4',data=train).fit()\n",
        "pred_add_season=pd.Series(Add_season.predict(pd.DataFrame(test[['Q1','Q2','Q3','Q4']])))\n",
        "RMSE_add_seas=np.sqrt(np.mean((np.array(test['Sales'])-np.array(pred_add_season))**2))\n",
        "RMSE_add_seas"
      ],
      "metadata": {
        "colab": {
          "base_uri": "https://localhost:8080/"
        },
        "id": "krNzcUxpvmtb",
        "outputId": "96322856-4c30-4bed-a842-88a5013cfee9"
      },
      "execution_count": 194,
      "outputs": [
        {
          "output_type": "execute_result",
          "data": {
            "text/plain": [
              "522.2023962258507"
            ]
          },
          "metadata": {},
          "execution_count": 194
        }
      ]
    },
    {
      "cell_type": "code",
      "source": [
        "#5 Additive with Seasonality with linear trend\n",
        "add_linear=smf.ols('Sales~t+Q1+Q2+Q3+Q4',data=train).fit()\n",
        "pred_add_lin=pd.Series(add_linear.predict(pd.DataFrame(test[['t','Q1','Q2','Q3','Q4']])))\n",
        "RMSE_add_lin=np.sqrt(np.mean((np.array(test['Sales'])-np.array(pred_add_lin))**2))\n",
        "RMSE_add_lin"
      ],
      "metadata": {
        "colab": {
          "base_uri": "https://localhost:8080/"
        },
        "id": "Lzpa2wY-8hFg",
        "outputId": "56294942-0433-4f38-ea82-9e81fafe4d1b"
      },
      "execution_count": 195,
      "outputs": [
        {
          "output_type": "execute_result",
          "data": {
            "text/plain": [
              "267.8435253810589"
            ]
          },
          "metadata": {},
          "execution_count": 195
        }
      ]
    },
    {
      "cell_type": "code",
      "source": [
        "#6 additive seasonlity with quadratic trend\n",
        "quad_seasonlity=smf.ols('Sales~t+t2+Q1+Q2+Q3+Q4',data=train).fit()\n",
        "pred_quad_seasonlity=pd.Series(quad_seasonlity.predict(pd.DataFrame(test[['t','t2','Q1','Q2','Q3','Q4']])))\n",
        "RMSE_pred_quad_seasonlity=np.sqrt(np.mean((np.array(test['Sales'])-np.array(pred_quad_seasonlity))**2))\n",
        "RMSE_pred_quad_seasonlity"
      ],
      "metadata": {
        "colab": {
          "base_uri": "https://localhost:8080/"
        },
        "id": "hVfQxqKU9Z9w",
        "outputId": "ed1fc4ee-7bb1-4fac-86b7-88d3f170c0bf"
      },
      "execution_count": 196,
      "outputs": [
        {
          "output_type": "execute_result",
          "data": {
            "text/plain": [
              "170.9407605534501"
            ]
          },
          "metadata": {},
          "execution_count": 196
        }
      ]
    },
    {
      "cell_type": "code",
      "source": [
        "#7 multiplicative seasonality\n",
        "multi_seas=smf.ols('log_sales~Q1+Q2+Q3+Q4',data=train).fit()\n",
        "pred_multi_seas=pd.Series(multi_seas.predict(pd.DataFrame(test[['Q1','Q2','Q3','Q4']])))\n",
        "RMSE_pred_multi_seas=np.sqrt(np.mean((np.array(test['Sales'])-np.array(np.exp(pred_multi_seas)))**2))\n",
        "RMSE_pred_multi_seas"
      ],
      "metadata": {
        "colab": {
          "base_uri": "https://localhost:8080/"
        },
        "id": "YxiFKdSp-vkb",
        "outputId": "a89ad7a3-bb60-4d14-dcbd-ff879821e1ef"
      },
      "execution_count": 197,
      "outputs": [
        {
          "output_type": "execute_result",
          "data": {
            "text/plain": [
              "466.5151627118033"
            ]
          },
          "metadata": {},
          "execution_count": 197
        }
      ]
    },
    {
      "cell_type": "code",
      "source": [
        "#8 multiplicative seasonality with linear trend\n",
        "multi_lin=smf.ols('log_sales~t+Q1+Q2+Q3+Q4',data=train).fit()\n",
        "pred_multi_lin=pd.Series(multi_lin.predict(pd.DataFrame(test[['t','Q1','Q2','Q3','Q4']])))\n",
        "RMSE_pred_multi_lin=np.sqrt(np.mean((np.array(test['Sales'])-np.array(np.exp(pred_multi_lin)))**2))\n",
        "RMSE_pred_multi_lin"
      ],
      "metadata": {
        "colab": {
          "base_uri": "https://localhost:8080/"
        },
        "id": "XSXlE0QJ_sr7",
        "outputId": "1e87f9f3-1e49-4266-f713-def67f8d9f73"
      },
      "execution_count": 198,
      "outputs": [
        {
          "output_type": "execute_result",
          "data": {
            "text/plain": [
              "231.3313083622452"
            ]
          },
          "metadata": {},
          "execution_count": 198
        }
      ]
    },
    {
      "cell_type": "code",
      "source": [
        "#9 multiplicative seasonality with quadratic trend\n",
        "multi_quad=smf.ols('log_sales~t+t2+Q1+Q2+Q3+Q4',data=train).fit()\n",
        "pred_multi_quad=pd.Series(multi_quad.predict(test[['t','t2','Q1','Q2','Q3','Q4']]))\n",
        "RMSE_multi_quad=np.sqrt(np.mean((np.array(test['Sales'])-np.array(np.exp(pred_multi_quad)))**2))\n",
        "RMSE_multi_quad"
      ],
      "metadata": {
        "colab": {
          "base_uri": "https://localhost:8080/"
        },
        "id": "Y05dX3smAhh3",
        "outputId": "6dc20cb1-9a4d-4ff0-aeb1-d4c30517bae7"
      },
      "execution_count": 199,
      "outputs": [
        {
          "output_type": "execute_result",
          "data": {
            "text/plain": [
              "177.65190967824253"
            ]
          },
          "metadata": {},
          "execution_count": 199
        }
      ]
    },
    {
      "cell_type": "code",
      "source": [
        "#Creating table for all RMSE\n",
        "RMSE={'Model':pd.Series(['RMSELin','RMSE_quad','RMSE_exp','RMSE_add_seas','RMSE_add_lin','RMSE_pred_quad_seasonlity','RMSE_pred_multi_seas','RMSE_pred_multi_lin','RMSE_multi_quad']),\n",
        "'Values':pd.Series([RMSELin,RMSE_quad,RMSE_exp,RMSE_add_seas,RMSE_add_lin,RMSE_pred_quad_seasonlity,RMSE_pred_multi_seas,RMSE_pred_multi_lin,RMSE_multi_quad])}"
      ],
      "metadata": {
        "id": "LEgs0Z1-BcJS"
      },
      "execution_count": 200,
      "outputs": []
    },
    {
      "cell_type": "code",
      "source": [
        "RMSE"
      ],
      "metadata": {
        "colab": {
          "base_uri": "https://localhost:8080/"
        },
        "id": "qjl_gUuWCNVU",
        "outputId": "eb9ce5fd-e883-4167-d543-98056a9731ce"
      },
      "execution_count": 201,
      "outputs": [
        {
          "output_type": "execute_result",
          "data": {
            "text/plain": [
              "{'Model': 0                      RMSELin\n",
              " 1                    RMSE_quad\n",
              " 2                     RMSE_exp\n",
              " 3                RMSE_add_seas\n",
              " 4                 RMSE_add_lin\n",
              " 5    RMSE_pred_quad_seasonlity\n",
              " 6         RMSE_pred_multi_seas\n",
              " 7          RMSE_pred_multi_lin\n",
              " 8              RMSE_multi_quad\n",
              " dtype: object,\n",
              " 'Values': 0    109.627942\n",
              " 1    274.054205\n",
              " 2    310.184696\n",
              " 3    522.202396\n",
              " 4    267.843525\n",
              " 5    170.940761\n",
              " 6    466.515163\n",
              " 7    231.331308\n",
              " 8    177.651910\n",
              " dtype: float64}"
            ]
          },
          "metadata": {},
          "execution_count": 201
        }
      ]
    },
    {
      "cell_type": "code",
      "source": [
        "coco_data=pd.read_excel('CocaCola_Sales_Rawdata.xlsx')"
      ],
      "metadata": {
        "id": "6SSuNyfcFYjG"
      },
      "execution_count": 202,
      "outputs": []
    },
    {
      "cell_type": "code",
      "source": [
        "#Final model 'Sales~t+Q1+Q2+Q3+Q4'\n",
        "final_model=smf.ols('log_sales~t+Q1+Q2+Q3+Q4',data=train).fit()\n",
        "pred=pd.Series(final_model.predict(test))\n",
        "actual_predict=np.exp(pred)\n",
        "actual_predict"
      ],
      "metadata": {
        "colab": {
          "base_uri": "https://localhost:8080/"
        },
        "id": "m6nuedzeCSiV",
        "outputId": "55070671-c229-4aa3-dcaa-5027a7141eb5"
      },
      "execution_count": 215,
      "outputs": [
        {
          "output_type": "execute_result",
          "data": {
            "text/plain": [
              "0    1581.989196\n",
              "1    2009.691775\n",
              "2    1989.007180\n",
              "3    1851.307210\n",
              "4    1723.639105\n",
              "5    2189.637793\n",
              "6    2167.101118\n",
              "7    2017.071615\n",
              "8    1877.972221\n",
              "9    2385.696019\n",
              "dtype: float64"
            ]
          },
          "metadata": {},
          "execution_count": 215
        }
      ]
    },
    {
      "cell_type": "code",
      "source": [
        "test['Sales']"
      ],
      "metadata": {
        "colab": {
          "base_uri": "https://localhost:8080/"
        },
        "id": "RBZNmJt2UcE_",
        "outputId": "1ae0c605-fd5a-44b7-a8fe-c34f9700fe3f"
      },
      "execution_count": 213,
      "outputs": [
        {
          "output_type": "execute_result",
          "data": {
            "text/plain": [
              "0    1734.827000\n",
              "1    2244.960999\n",
              "2    2533.804993\n",
              "3    2154.962997\n",
              "4    1547.818996\n",
              "5    2104.411995\n",
              "6    2014.362999\n",
              "7    1991.746998\n",
              "8    1869.049999\n",
              "9    2313.631996\n",
              "Name: Sales, dtype: float64"
            ]
          },
          "metadata": {},
          "execution_count": 213
        }
      ]
    },
    {
      "cell_type": "code",
      "source": [],
      "metadata": {
        "id": "uKiP1PFVVVcS"
      },
      "execution_count": null,
      "outputs": []
    }
  ]
}